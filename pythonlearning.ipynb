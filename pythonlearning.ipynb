{
  "nbformat": 4,
  "nbformat_minor": 0,
  "metadata": {
    "colab": {
      "provenance": [],
      "include_colab_link": true
    },
    "kernelspec": {
      "name": "python3",
      "display_name": "Python 3"
    },
    "language_info": {
      "name": "python"
    }
  },
  "cells": [
    {
      "cell_type": "markdown",
      "metadata": {
        "id": "view-in-github",
        "colab_type": "text"
      },
      "source": [
        "<a href=\"https://colab.research.google.com/github/saurabhkr78/Learning/blob/main/pythonlearning.ipynb\" target=\"_parent\"><img src=\"https://colab.research.google.com/assets/colab-badge.svg\" alt=\"Open In Colab\"/></a>"
      ]
    },
    {
      "cell_type": "code",
      "execution_count": null,
      "metadata": {
        "colab": {
          "base_uri": "https://localhost:8080/"
        },
        "id": "P3DRwlygDXGh",
        "outputId": "e2c0e719-436d-44aa-897d-08d622376366"
      },
      "outputs": [
        {
          "output_type": "stream",
          "name": "stdout",
          "text": [
            "5-6-7\n",
            "5 6 7\n"
          ]
        },
        {
          "output_type": "execute_result",
          "data": {
            "text/plain": [
              "0.8333333333333334"
            ]
          },
          "metadata": {},
          "execution_count": 6
        }
      ],
      "source": [
        "a=5\n",
        "b=6\n",
        "c=7\n",
        "#change seperator\n",
        "print(a,b,c,sep=\"-\")\n",
        "print(a,b,c)\n",
        "#power calc\n",
        "a**3\n",
        "#python division\n",
        "d=8/7\n",
        "#floor division\n",
        "a//b"
      ]
    },
    {
      "cell_type": "code",
      "source": [
        "8/7\n"
      ],
      "metadata": {
        "colab": {
          "base_uri": "https://localhost:8080/"
        },
        "id": "Qk3PgTCsH8vc",
        "outputId": "775acf80-94ec-456c-b0e6-b65e282df886"
      },
      "execution_count": null,
      "outputs": [
        {
          "output_type": "execute_result",
          "data": {
            "text/plain": [
              "1.1428571428571428"
            ]
          },
          "metadata": {},
          "execution_count": 9
        }
      ]
    },
    {
      "cell_type": "code",
      "source": [
        "a=3//4\n",
        "b=3.0//4\n",
        "print(a)\n",
        "print(b)"
      ],
      "metadata": {
        "colab": {
          "base_uri": "https://localhost:8080/"
        },
        "id": "ZhPKpSmQIGkn",
        "outputId": "6b31a1dd-28ba-483d-a169-49f2206fd9fb"
      },
      "execution_count": null,
      "outputs": [
        {
          "output_type": "stream",
          "name": "stdout",
          "text": [
            "0\n",
            "0.0\n"
          ]
        }
      ]
    },
    {
      "cell_type": "code",
      "source": [
        "a=3%2\n",
        "b=3.5%2\n",
        "print(a)\n",
        "print(b)"
      ],
      "metadata": {
        "colab": {
          "base_uri": "https://localhost:8080/"
        },
        "id": "JtYwX5MAIQdg",
        "outputId": "7dfd82c0-bc28-4c90-865d-a5f77714a51c"
      },
      "execution_count": null,
      "outputs": [
        {
          "output_type": "stream",
          "name": "stdout",
          "text": [
            "1\n",
            "1.5\n"
          ]
        }
      ]
    },
    {
      "cell_type": "code",
      "source": [
        "10>6>5>2>1"
      ],
      "metadata": {
        "colab": {
          "base_uri": "https://localhost:8080/"
        },
        "id": "rwGLgVGaI5M7",
        "outputId": "8dcab32d-e06a-4728-fdf6-9a190e0194b2"
      },
      "execution_count": null,
      "outputs": [
        {
          "output_type": "execute_result",
          "data": {
            "text/plain": [
              "True"
            ]
          },
          "metadata": {},
          "execution_count": 17
        }
      ]
    },
    {
      "cell_type": "code",
      "source": [
        "not True"
      ],
      "metadata": {
        "colab": {
          "base_uri": "https://localhost:8080/"
        },
        "id": "0ziKpVM0JEiH",
        "outputId": "2d9980dc-9e16-446c-ceae-f23d9c027407"
      },
      "execution_count": null,
      "outputs": [
        {
          "output_type": "execute_result",
          "data": {
            "text/plain": [
              "False"
            ]
          },
          "metadata": {},
          "execution_count": 19
        }
      ]
    },
    {
      "cell_type": "code",
      "source": [
        "3>0 and 4>0"
      ],
      "metadata": {
        "colab": {
          "base_uri": "https://localhost:8080/"
        },
        "id": "iXNS8E4hJOuv",
        "outputId": "c5dde82d-5f8a-432d-d6e9-164f44af1738"
      },
      "execution_count": null,
      "outputs": [
        {
          "output_type": "execute_result",
          "data": {
            "text/plain": [
              "True"
            ]
          },
          "metadata": {},
          "execution_count": 20
        }
      ]
    },
    {
      "cell_type": "code",
      "source": [
        "3>0 or 4>0"
      ],
      "metadata": {
        "colab": {
          "base_uri": "https://localhost:8080/"
        },
        "id": "iw6OyARGJV1m",
        "outputId": "8d660861-2dc5-466d-f796-bdf4723daad5"
      },
      "execution_count": null,
      "outputs": [
        {
          "output_type": "execute_result",
          "data": {
            "text/plain": [
              "True"
            ]
          },
          "metadata": {},
          "execution_count": 21
        }
      ]
    },
    {
      "cell_type": "code",
      "source": [
        "a=\"sheeta\" or \"geeta\"\n",
        "b=\"ram\"and \"shyam\"\n",
        "print(a)\n",
        "print (b)"
      ],
      "metadata": {
        "colab": {
          "base_uri": "https://localhost:8080/"
        },
        "id": "X7GPINnDKXs4",
        "outputId": "90607e24-e763-460a-b181-e20daa22df2e"
      },
      "execution_count": null,
      "outputs": [
        {
          "output_type": "stream",
          "name": "stdout",
          "text": [
            "sheeta\n",
            "shyam\n"
          ]
        }
      ]
    },
    {
      "cell_type": "code",
      "source": [
        "a=3&4#binary operation\n",
        "b=3|4\n",
        "print(a)\n",
        "print (b)"
      ],
      "metadata": {
        "colab": {
          "base_uri": "https://localhost:8080/"
        },
        "id": "w2q-I6ufK_GF",
        "outputId": "1d52f09c-6feb-47a5-b575-3fba11544109"
      },
      "execution_count": null,
      "outputs": [
        {
          "output_type": "stream",
          "name": "stdout",
          "text": [
            "0\n",
            "7\n"
          ]
        }
      ]
    },
    {
      "cell_type": "code",
      "source": [
        "#assignment\n",
        "a,b,c,d=4,5,6,-1\n",
        "print(a)\n",
        "print (b)\n",
        "print(c)\n",
        "print (d)"
      ],
      "metadata": {
        "colab": {
          "base_uri": "https://localhost:8080/"
        },
        "id": "_sqm8XK_LUxs",
        "outputId": "c3006f10-c978-4dd1-d76f-fcf632006754"
      },
      "execution_count": null,
      "outputs": [
        {
          "output_type": "stream",
          "name": "stdout",
          "text": [
            "4\n",
            "5\n",
            "6\n",
            "-1\n"
          ]
        }
      ]
    },
    {
      "cell_type": "code",
      "source": [
        "#python already have an object of value 5 in memory so python just passes the id  to new refrence varibales so now x and y have same id(refrence address)\n",
        "x=5\n",
        "a=id(x)\n",
        "y=5\n",
        "b=id(y)\n",
        "c=x is y\n",
        "print(a)\n",
        "print(b)\n",
        "print(c)"
      ],
      "metadata": {
        "colab": {
          "base_uri": "https://localhost:8080/"
        },
        "id": "IsFH_RFfL2YK",
        "outputId": "b0271639-6cd9-40a3-9867-20c52b8ecf96"
      },
      "execution_count": null,
      "outputs": [
        {
          "output_type": "stream",
          "name": "stdout",
          "text": [
            "132763043512688\n",
            "132763043512688\n",
            "True\n"
          ]
        }
      ]
    },
    {
      "cell_type": "code",
      "source": [
        "y=\"saurabh\"\n",
        "\"sau\" in y"
      ],
      "metadata": {
        "colab": {
          "base_uri": "https://localhost:8080/"
        },
        "id": "lrbxM2bAPYer",
        "outputId": "2784abf2-0b0c-4c0c-914a-1012515354b2"
      },
      "execution_count": null,
      "outputs": [
        {
          "output_type": "execute_result",
          "data": {
            "text/plain": [
              "True"
            ]
          },
          "metadata": {},
          "execution_count": 33
        }
      ]
    },
    {
      "cell_type": "code",
      "source": [
        "x=input()\n",
        "print(x)\n",
        "a=type(x)\n",
        "c=\"xyz\"+\"abc\"\n",
        "print(c)\n",
        "print(a)"
      ],
      "metadata": {
        "colab": {
          "base_uri": "https://localhost:8080/"
        },
        "id": "EkuAAoToPtAP",
        "outputId": "132edd75-962d-4174-fecf-40289c544d71"
      },
      "execution_count": null,
      "outputs": [
        {
          "output_type": "stream",
          "name": "stdout",
          "text": [
            "hello\n",
            "hello\n",
            "xyzabc\n",
            "<class 'str'>\n"
          ]
        }
      ]
    },
    {
      "cell_type": "code",
      "source": [
        "a=5+int(\"5\")\n",
        "b=bin(5)\n",
        "k=type(b)\n",
        "c=hex(5)\n",
        "d=oct(5)\n",
        "\n",
        "print(a)\n",
        "print(b)\n",
        "print(k)\n",
        "print(c)\n",
        "print(d)\n",
        "z=ord(\"A\")\n",
        "print(z)\n",
        "m=chr(65)\n",
        "print(m)"
      ],
      "metadata": {
        "colab": {
          "base_uri": "https://localhost:8080/"
        },
        "id": "8LNl4ilnQhR4",
        "outputId": "b595e362-e467-47ea-b372-fe3f5a623734"
      },
      "execution_count": null,
      "outputs": [
        {
          "output_type": "stream",
          "name": "stdout",
          "text": [
            "10\n",
            "0b101\n",
            "<class 'str'>\n",
            "0x5\n",
            "0o5\n",
            "65\n",
            "A\n"
          ]
        }
      ]
    },
    {
      "cell_type": "code",
      "source": [
        "#user input\n",
        "print(\"ENter two numbers\")\n",
        "a,b=int(input()),int(input())#input function returns string value so we typecasted here\n",
        "c=a+b\n",
        "print(c)\n"
      ],
      "metadata": {
        "colab": {
          "base_uri": "https://localhost:8080/"
        },
        "id": "q3HPHjuUUnZg",
        "outputId": "e45463ab-ac30-49f6-f8a4-a81273b8ab51"
      },
      "execution_count": null,
      "outputs": [
        {
          "output_type": "stream",
          "name": "stdout",
          "text": [
            "ENter two numbers\n",
            "12\n",
            "13\n",
            "25\n"
          ]
        }
      ]
    },
    {
      "cell_type": "code",
      "source": [
        "a=3\n",
        "b=1\n",
        "if a>b:\n",
        "  print(a)\n",
        "else:\n",
        "  print(b)"
      ],
      "metadata": {
        "colab": {
          "base_uri": "https://localhost:8080/"
        },
        "id": "fncRyLSiVebe",
        "outputId": "8c761924-1742-456f-cf53-8b53bbc1fbd4"
      },
      "execution_count": null,
      "outputs": [
        {
          "output_type": "stream",
          "name": "stdout",
          "text": [
            "3\n"
          ]
        }
      ]
    },
    {
      "cell_type": "code",
      "source": [
        "a=3\n",
        "b=0\n",
        "if a<b:\n",
        "  print(a)\n",
        "  print(b)\n",
        "print(\"bye\")"
      ],
      "metadata": {
        "colab": {
          "base_uri": "https://localhost:8080/"
        },
        "id": "ACQsM9xZWabo",
        "outputId": "77a3292a-2485-447e-931b-46f28a5de0b2"
      },
      "execution_count": null,
      "outputs": [
        {
          "output_type": "stream",
          "name": "stdout",
          "text": [
            "bye\n"
          ]
        }
      ]
    },
    {
      "cell_type": "code",
      "source": [
        "#first n natural number\n",
        "n=int(input())\n",
        "i=1\n",
        "while i<=n:\n",
        "  print(i,end=' ')\n",
        "  i+=1"
      ],
      "metadata": {
        "colab": {
          "base_uri": "https://localhost:8080/"
        },
        "id": "EL7byfYekZJ1",
        "outputId": "856d7684-c19b-4e20-d96f-64793cd6792e"
      },
      "execution_count": null,
      "outputs": [
        {
          "output_type": "stream",
          "name": "stdout",
          "text": [
            "5\n",
            "1 2 3 4 5 "
          ]
        }
      ]
    },
    {
      "cell_type": "code",
      "source": [
        "#prime no\n",
        "n=int(input())\n",
        "i=2\n",
        "while i<=n-1:\n",
        "  if n%i==0:\n",
        "      print(\"not prime\")\n",
        "      break\n",
        "  i+=1\n",
        "\n",
        "else:\n",
        "    print(\"prime\")\n",
        "\n"
      ],
      "metadata": {
        "colab": {
          "base_uri": "https://localhost:8080/"
        },
        "id": "ekP_66MKlck-",
        "outputId": "8fd4d53b-57aa-42d9-af05-92b62922887c"
      },
      "execution_count": null,
      "outputs": [
        {
          "output_type": "stream",
          "name": "stdout",
          "text": [
            "15\n",
            "not prime\n"
          ]
        }
      ]
    },
    {
      "cell_type": "code",
      "source": [
        "#for loop\n",
        "str=\"saurabh\"\n",
        "for a in str: #elenents of str will go one by one in a variable\n",
        "  print(a,ord(a))\n"
      ],
      "metadata": {
        "colab": {
          "base_uri": "https://localhost:8080/"
        },
        "id": "4YKm1gtEoCMI",
        "outputId": "bd483d06-8636-4371-b777-ff7cb59a68eb"
      },
      "execution_count": null,
      "outputs": [
        {
          "output_type": "stream",
          "name": "stdout",
          "text": [
            "s 115\n",
            "a 97\n",
            "u 117\n",
            "r 114\n",
            "a 97\n",
            "b 98\n",
            "h 104\n"
          ]
        }
      ]
    },
    {
      "cell_type": "code",
      "source": [
        "#range(5) by defalut =0,begend =5 and step=1\n",
        "r=range(1,10,1)\n",
        "for k in r:\n",
        "  print(k,end=\" \")\n",
        "\n",
        "\n"
      ],
      "metadata": {
        "colab": {
          "base_uri": "https://localhost:8080/"
        },
        "id": "Hez1U3MiuUyF",
        "outputId": "f29bd42d-fc63-4fc2-92ea-305bceeddf11"
      },
      "execution_count": null,
      "outputs": [
        {
          "output_type": "stream",
          "name": "stdout",
          "text": [
            "1 2 3 4 5 6 7 8 9 "
          ]
        }
      ]
    },
    {
      "cell_type": "code",
      "source": [
        "q=range(10,3,-2)\n",
        "for j in q:\n",
        "  print(j,end=\" \")"
      ],
      "metadata": {
        "colab": {
          "base_uri": "https://localhost:8080/"
        },
        "id": "TJ8n2i1zyK0a",
        "outputId": "ac0a1ac6-95ef-4c35-eec0-7c1f6034376c"
      },
      "execution_count": null,
      "outputs": [
        {
          "output_type": "stream",
          "name": "stdout",
          "text": [
            "10 8 6 4 "
          ]
        }
      ]
    },
    {
      "cell_type": "code",
      "source": [
        "r=range(1,10,1)\n",
        "for k in r:\n",
        "  print(k,k**2)"
      ],
      "metadata": {
        "colab": {
          "base_uri": "https://localhost:8080/"
        },
        "id": "eNZHFTh2yvrN",
        "outputId": "087a2b96-7d20-47fb-85b6-627533697a4a"
      },
      "execution_count": null,
      "outputs": [
        {
          "output_type": "stream",
          "name": "stdout",
          "text": [
            "1 1\n",
            "2 4\n",
            "3 9\n",
            "4 16\n",
            "5 25\n",
            "6 36\n",
            "7 49\n",
            "8 64\n",
            "9 81\n"
          ]
        }
      ]
    },
    {
      "cell_type": "code",
      "source": [
        "#list\n",
        "#l1=[1,2,3,4,5,6]\n",
        "#type(l1)\n",
        "l2=[1,2.0,0.0,3+4j,\"Saurabh\",'a']\n",
        "type(l2)\n",
        "l3=[]\n",
        "type(l3)"
      ],
      "metadata": {
        "colab": {
          "base_uri": "https://localhost:8080/"
        },
        "id": "ntpkjU_qznqC",
        "outputId": "30e1c43a-d84d-4eb5-f062-cb27d713c9fd"
      },
      "execution_count": null,
      "outputs": [
        {
          "output_type": "execute_result",
          "data": {
            "text/plain": [
              "set"
            ]
          },
          "metadata": {},
          "execution_count": 102
        }
      ]
    },
    {
      "cell_type": "code",
      "source": [
        "l2=[1,2.0,0.0,3+4j,\"Saurabh\",'a']\n",
        "b=type(l2)\n",
        "print(b)\n",
        "print(l2)\n",
        "print(l2[0])\n",
        "print(l2[3],l2[5])\n",
        "print(l2[-2])\n",
        "for x in l2:\n",
        "  print(x,end=\" \")\n",
        "  #delete size reduced\n",
        "del l2[2]\n",
        "#edit element\n",
        "l2[4]=70\n"
      ],
      "metadata": {
        "colab": {
          "base_uri": "https://localhost:8080/"
        },
        "id": "JtKOv0TN4agJ",
        "outputId": "a317ea17-54a0-4c93-8879-11e8c2b887c5"
      },
      "execution_count": null,
      "outputs": [
        {
          "output_type": "stream",
          "name": "stdout",
          "text": [
            "<class 'list'>\n",
            "[1, 2.0, 0.0, (3+4j), 'Saurabh', 'a']\n",
            "1\n",
            "(3+4j) a\n",
            "Saurabh\n",
            "1 2.0 0.0 (3+4j) Saurabh a "
          ]
        }
      ]
    },
    {
      "cell_type": "code",
      "source": [
        "l2=[1,2.0,0.0,3+4j,\"Saurabh\",'a']\n",
        "del l2[2]\n",
        "print(l2)\n",
        "l2[4]=\"Ram\"\n",
        "print(l2)\n",
        "l2.append(\"xyz\")\n",
        "print(l2)\n",
        "l2.insert(3,\"Siya\")\n",
        "print(l2)\n",
        "l2.insert(25,\"Siya\")\n",
        "print(l2)\n",
        "\n"
      ],
      "metadata": {
        "colab": {
          "base_uri": "https://localhost:8080/"
        },
        "id": "h-lodWsY7D3G",
        "outputId": "9f797584-9a8b-4190-f4a0-eb579108b2b1"
      },
      "execution_count": null,
      "outputs": [
        {
          "output_type": "stream",
          "name": "stdout",
          "text": [
            "[1, 2.0, (3+4j), 'Saurabh', 'a']\n",
            "[1, 2.0, (3+4j), 'Saurabh', 'Ram']\n",
            "[1, 2.0, (3+4j), 'Saurabh', 'Ram', 'xyz']\n",
            "[1, 2.0, (3+4j), 'Siya', 'Saurabh', 'Ram', 'xyz']\n",
            "[1, 2.0, (3+4j), 'Siya', 'Saurabh', 'Ram', 'xyz', 'Siya']\n"
          ]
        }
      ]
    },
    {
      "cell_type": "code",
      "source": [],
      "metadata": {
        "id": "5r1LtrrM9Tjl"
      },
      "execution_count": null,
      "outputs": []
    },
    {
      "cell_type": "code",
      "source": [
        "l1=[11,2,34,4,55,6]\n",
        "a=len(l1)\n",
        "print(a)\n",
        "b=max(l1)\n",
        "print(b)\n",
        "c=min(l1)\n",
        "print(c)\n",
        "d=sum(l1)\n",
        "print(d)\n",
        "sorted(l1)\n",
        "l1"
      ],
      "metadata": {
        "colab": {
          "base_uri": "https://localhost:8080/"
        },
        "id": "GS9c8pE59TxQ",
        "outputId": "09a7d207-f301-4ce7-aac9-858496adcbe5"
      },
      "execution_count": null,
      "outputs": [
        {
          "output_type": "stream",
          "name": "stdout",
          "text": [
            "6\n",
            "55\n",
            "2\n",
            "112\n"
          ]
        },
        {
          "output_type": "execute_result",
          "data": {
            "text/plain": [
              "[11, 2, 34, 4, 55, 6]"
            ]
          },
          "metadata": {},
          "execution_count": 127
        }
      ]
    },
    {
      "cell_type": "code",
      "source": [
        "l3=list(range(4))\n",
        "print(l3)\n",
        "l4 =list(\"Saurabh\")\n",
        "print(l4)"
      ],
      "metadata": {
        "colab": {
          "base_uri": "https://localhost:8080/"
        },
        "id": "lyXD3gKw-Klb",
        "outputId": "0db3c989-f6a0-4928-ef79-9edb398531ac"
      },
      "execution_count": null,
      "outputs": [
        {
          "output_type": "stream",
          "name": "stdout",
          "text": [
            "[0, 1, 2, 3]\n",
            "['S', 'a', 'u', 'r', 'a', 'b', 'h']\n"
          ]
        }
      ]
    },
    {
      "cell_type": "code",
      "source": [
        "l=[1,2,3]\n",
        "l1=[3,2,1]\n",
        "print(l1==l2)\n",
        "print(l1>l)\n",
        "\n",
        "print(l+l1)\n",
        "\n"
      ],
      "metadata": {
        "colab": {
          "base_uri": "https://localhost:8080/"
        },
        "id": "1JTPynfz-pr2",
        "outputId": "e5bd8b31-a0b6-43e4-c950-8b04e9ff5787"
      },
      "execution_count": null,
      "outputs": [
        {
          "output_type": "stream",
          "name": "stdout",
          "text": [
            "False\n",
            "True\n",
            "[1, 2, 3, 3, 2, 1]\n"
          ]
        }
      ]
    },
    {
      "cell_type": "code",
      "source": [
        "l=[1,2,3]\n",
        "print(l1*2)\n",
        "l4=[[1,2,3],[4,5,6],[7,8,9]]\n",
        "print(l4)\n",
        "print(l4[0])\n",
        "print(l4[1][2])\n"
      ],
      "metadata": {
        "colab": {
          "base_uri": "https://localhost:8080/"
        },
        "id": "aAy-hYOJDfFm",
        "outputId": "208259c8-7c65-4560-a57c-2abfb37aacd9"
      },
      "execution_count": null,
      "outputs": [
        {
          "output_type": "stream",
          "name": "stdout",
          "text": [
            "[3, 2, 1, 3, 2, 1]\n",
            "[[1, 2, 3], [4, 5, 6], [7, 8, 9]]\n",
            "[1, 2, 3]\n",
            "6\n"
          ]
        }
      ]
    },
    {
      "cell_type": "code",
      "source": [
        "l1=[1,2,3,4]\n",
        "l1.remove(4)\n",
        "print(l1)\n",
        "x=l1.pop()\n",
        "print(x)\n",
        "l1.clear()\n",
        "print(l1)\n",
        "l2=[1,2,3,4]\n",
        "l2.reverse()\n",
        "print(l2)\n",
        "i=l2.index(3)\n",
        "print(i)\n"
      ],
      "metadata": {
        "colab": {
          "base_uri": "https://localhost:8080/"
        },
        "id": "B51lYZqiEpFD",
        "outputId": "f99e96a4-f04e-40f6-81dd-d40dff649aa3"
      },
      "execution_count": null,
      "outputs": [
        {
          "output_type": "stream",
          "name": "stdout",
          "text": [
            "[1, 2, 3]\n",
            "3\n",
            "[]\n",
            "[4, 3, 2, 1]\n",
            "1\n"
          ]
        },
        {
          "output_type": "execute_result",
          "data": {
            "text/plain": [
              "0"
            ]
          },
          "metadata": {},
          "execution_count": 158
        }
      ]
    },
    {
      "cell_type": "code",
      "source": [
        "l5=[1,2,3,4,5,6,7,8,9,9,1,2,3]\n",
        "print(l5.index(1))\n",
        "print(l5.count(1))\n",
        "print(sorted(l5,reverse=False))\n",
        "print(sorted(l5,reverse=True))\n",
        "\n",
        "l5.sort()#make permanent changes in the list\n",
        "print(l5)"
      ],
      "metadata": {
        "colab": {
          "base_uri": "https://localhost:8080/"
        },
        "id": "nBlbvAmQGvN-",
        "outputId": "2bfbcffe-cbaa-4594-bbd8-0f0a554f4b76"
      },
      "execution_count": null,
      "outputs": [
        {
          "output_type": "stream",
          "name": "stdout",
          "text": [
            "0\n",
            "2\n",
            "[1, 1, 2, 2, 3, 3, 4, 5, 6, 7, 8, 9, 9]\n",
            "[9, 9, 8, 7, 6, 5, 4, 3, 3, 2, 2, 1, 1]\n",
            "[1, 1, 2, 2, 3, 3, 4, 5, 6, 7, 8, 9, 9]\n"
          ]
        }
      ]
    },
    {
      "cell_type": "code",
      "source": [
        "a=[a+1 for a in range(5)]\n",
        "print(a)\n",
        "b=[3+4 for a in range(5)]\n",
        "print(b)\n",
        "c=[a**2 for a in range(2,20,2)]\n",
        "print(c,end=\" \")"
      ],
      "metadata": {
        "colab": {
          "base_uri": "https://localhost:8080/"
        },
        "id": "1MkcZs1ozg5J",
        "outputId": "36033839-6233-48bc-9d3b-c67bec6070d7"
      },
      "execution_count": null,
      "outputs": [
        {
          "output_type": "stream",
          "name": "stdout",
          "text": [
            "[1, 2, 3, 4, 5]\n",
            "[7, 7, 7, 7, 7]\n",
            "[4, 16, 36, 64, 100, 144, 196, 256, 324] "
          ]
        }
      ]
    },
    {
      "cell_type": "code",
      "source": [
        "oddNumbers = [2 * e - 1 for e in range(1, int(input(\"enter a number\")) + 1)]\n",
        "print(oddNumbers)\n"
      ],
      "metadata": {
        "colab": {
          "base_uri": "https://localhost:8080/"
        },
        "id": "0EjD0gbv1BMw",
        "outputId": "64308cd1-7cbf-4385-a45c-0e56e238b2b1"
      },
      "execution_count": null,
      "outputs": [
        {
          "output_type": "stream",
          "name": "stdout",
          "text": [
            "enter a number10\n",
            "[1, 3, 5, 7, 9, 11, 13, 15, 17, 19]\n"
          ]
        }
      ]
    },
    {
      "cell_type": "code",
      "source": [
        "#string\n",
        "#to check whether iterator is hashable or not\n",
        "l1=[]\n",
        "a=hash(l1)\n",
        "print(a)\n",
        "s1='saurabh'\n",
        "b=hash(s1)\n",
        "print(b)"
      ],
      "metadata": {
        "colab": {
          "base_uri": "https://localhost:8080/"
        },
        "id": "G-k8CmeQ3cAL",
        "outputId": "8e6d1722-142d-4a49-d1f1-f8a8664c8a71"
      },
      "execution_count": null,
      "outputs": [
        {
          "output_type": "stream",
          "name": "stdout",
          "text": [
            "-4079745124490338610\n"
          ]
        }
      ]
    },
    {
      "cell_type": "code",
      "source": [
        "#str object craetion\n",
        "\"\"\"s1='Saurabh'\n",
        "s2=\"saurabh\"\n",
        "s3=\"\"\"Saurabh\"\"\"\n",
        "s4='''Saurabh'''\n",
        "s5=str()/s5=\"\"/s5=''\n",
        "s6=str(123)\n",
        "s7=str(3.45) \"\"\""
      ],
      "metadata": {
        "id": "G8hdcXt44u-Z"
      },
      "execution_count": null,
      "outputs": []
    },
    {
      "cell_type": "code",
      "source": [
        "s1=str([11,22])\n",
        "print(s1)\n",
        "s2='myname'\n",
        "print(s2[0])\n",
        "print(s2[-1])\n",
        "for e in s2:\n",
        "  print(e,end=\" \")\n",
        "\n",
        "\n",
        "print(len(s2))\n",
        "print(min(s2))\n",
        "print(max(s2))\n",
        "print(sorted(s2))\n",
        "print(s2+s2)\n",
        "print(s2*3)\n",
        "print(s2==s2)"
      ],
      "metadata": {
        "colab": {
          "base_uri": "https://localhost:8080/"
        },
        "id": "OpX2lTQd5zku",
        "outputId": "fa70f68d-a2b0-45fa-b112-b724ee15947e"
      },
      "execution_count": null,
      "outputs": [
        {
          "output_type": "stream",
          "name": "stdout",
          "text": [
            "[11, 22]\n",
            "m\n",
            "e\n",
            "m y n a m e 6\n",
            "a\n",
            "y\n",
            "['a', 'e', 'm', 'm', 'n', 'y']\n",
            "mynamemyname\n",
            "mynamemynamemyname\n",
            "True\n"
          ]
        }
      ]
    },
    {
      "cell_type": "code",
      "source": [
        "s1=\"my name is saurabh\"\n",
        "print(type(s1))\n",
        "print(s1.index('i'))\n",
        "print(s1.index('name'))\n",
        "print(s1.count('a'))\n",
        "print(s1.count(' '))\n",
        "print(s1.startswith('my'))\n",
        "print(s1.endswith('h'))\n",
        "print(s1.isdigit())\n",
        "print(s1.islower())\n",
        "print(s1.isupper())\n",
        "print(s1.replace('m','M'))\n",
        "print(s1.replace('a','A',s1.count('a')))\n",
        "a,b=10,20\n",
        "s3=\"Sum of {} and {} is {}\"\n",
        "print(s3.format(a,b,a+b))\n",
        "s3=\"Sum of {2} and {1} is {0}\"\n",
        "print(s3.format(a,b,a+b))\n",
        "s1.split(' ')\n",
        "s5=input(\"Enter number seperated by comma\")\n",
        "print(s5)\n",
        "print(s5.split(','))\n"
      ],
      "metadata": {
        "colab": {
          "base_uri": "https://localhost:8080/"
        },
        "id": "ics0N2qk9o7h",
        "outputId": "ff12a7f2-6678-496b-aeba-6656dffc7eeb"
      },
      "execution_count": null,
      "outputs": [
        {
          "output_type": "stream",
          "name": "stdout",
          "text": [
            "<class 'str'>\n",
            "8\n",
            "3\n",
            "3\n",
            "3\n",
            "True\n",
            "True\n",
            "False\n",
            "True\n",
            "False\n",
            "My naMe is saurabh\n",
            "my nAme is sAurAbh\n",
            "Sum of 10 and 20 is 30\n",
            "Sum of 30 and 20 is 10\n",
            "Enter number seperated by comma10,20,30\n",
            "10,20,30\n",
            "['10', '20', '30']\n"
          ]
        }
      ]
    },
    {
      "cell_type": "code",
      "source": [
        "#split\n",
        "l2=[int(x)for x in input(\"Enter Number Seperated by Comma\").split(',')]\n",
        "print(l2)"
      ],
      "metadata": {
        "colab": {
          "base_uri": "https://localhost:8080/"
        },
        "id": "j7tZ9NfRDCY7",
        "outputId": "ed255ffc-33a9-432b-d335-40f5b266d163"
      },
      "execution_count": null,
      "outputs": [
        {
          "output_type": "stream",
          "name": "stdout",
          "text": [
            "Enter Number Seperated by Comma44,55,66,77\n",
            "[44, 55, 66, 77]\n"
          ]
        }
      ]
    },
    {
      "cell_type": "code",
      "source": [
        "#join\n",
        "s1='i am from bihar and i am proud of that'\n",
        "l1=s1.split(' ')\n",
        "\n",
        "'#'.join(l1)"
      ],
      "metadata": {
        "colab": {
          "base_uri": "https://localhost:8080/",
          "height": 35
        },
        "id": "PaTK5Ob6D6Iw",
        "outputId": "e24fa01f-b6cf-4105-d4b7-4432b5375248"
      },
      "execution_count": null,
      "outputs": [
        {
          "output_type": "execute_result",
          "data": {
            "text/plain": [
              "'i#am#from#bihar#and#i#am#proud#of#that'"
            ],
            "application/vnd.google.colaboratory.intrinsic+json": {
              "type": "string"
            }
          },
          "metadata": {},
          "execution_count": 52
        }
      ]
    },
    {
      "cell_type": "code",
      "source": [
        "#slicing\n",
        "#strobj=[beg:end:step]\n",
        "s2='ABCDEFG'\n",
        "print(s2[0:5:1])\n",
        "print(s2[0:10:1])\n",
        "print(s2[5:1:-1])\n",
        "print(s2[:0:-1])\n",
        "print(s2[1::1])\n",
        "print(s2[6::-1])#reverse\n",
        "print(s2[::])\n"
      ],
      "metadata": {
        "colab": {
          "base_uri": "https://localhost:8080/"
        },
        "id": "_UKfpyFEFAK-",
        "outputId": "81ec9c29-e444-4f80-bf94-fac92557d17c"
      },
      "execution_count": null,
      "outputs": [
        {
          "output_type": "stream",
          "name": "stdout",
          "text": [
            "ABCDE\n",
            "ABCDEFG\n",
            "FEDC\n",
            "GFEDCB\n",
            "BCDEFG\n",
            "GFEDCBA\n",
            "ABCDEFG\n"
          ]
        }
      ]
    },
    {
      "cell_type": "code",
      "source": [
        "' '.join(input(\"Enter A string\").split(' ')[::-1])"
      ],
      "metadata": {
        "colab": {
          "base_uri": "https://localhost:8080/",
          "height": 52
        },
        "id": "CINeyX5RGt25",
        "outputId": "4d621aad-8bf7-47f9-bb26-4ebb80006b5a"
      },
      "execution_count": null,
      "outputs": [
        {
          "name": "stdout",
          "output_type": "stream",
          "text": [
            "Enter A stringwho are you\n"
          ]
        },
        {
          "output_type": "execute_result",
          "data": {
            "text/plain": [
              "'you are who'"
            ],
            "application/vnd.google.colaboratory.intrinsic+json": {
              "type": "string"
            }
          },
          "metadata": {},
          "execution_count": 61
        }
      ]
    },
    {
      "cell_type": "code",
      "source": [
        "#tuple\n",
        "t=(10,20,'ram')\n",
        "print(t)\n",
        "print(type(t))\n",
        "t1=(10)\n",
        "print(type(t1))\n",
        "t2=(10,)\n",
        "print(type(t2))\n",
        "t3=10,20,30\n",
        "print(type(t3))\n",
        "t4=10,20,30,\n",
        "print(type(t4))\n",
        "print(t4[0])\n"
      ],
      "metadata": {
        "colab": {
          "base_uri": "https://localhost:8080/"
        },
        "id": "80LKE2xSHcFt",
        "outputId": "06288d23-8ffb-4a65-8c14-8b2b3fa6234a"
      },
      "execution_count": null,
      "outputs": [
        {
          "output_type": "stream",
          "name": "stdout",
          "text": [
            "(10, 20, 'ram')\n",
            "<class 'tuple'>\n",
            "<class 'int'>\n",
            "<class 'tuple'>\n",
            "<class 'tuple'>\n",
            "<class 'tuple'>\n",
            "10\n"
          ]
        }
      ]
    },
    {
      "cell_type": "code",
      "source": [
        "r=range(10,20,1)\n",
        "print(r[0])\n",
        "print(r[-1])"
      ],
      "metadata": {
        "colab": {
          "base_uri": "https://localhost:8080/"
        },
        "id": "Y8cWvyn5Jw6w",
        "outputId": "f9cf2ee2-950b-47e5-a58d-16da8d194ee3"
      },
      "execution_count": null,
      "outputs": [
        {
          "output_type": "stream",
          "name": "stdout",
          "text": [
            "10\n",
            "19\n"
          ]
        }
      ]
    },
    {
      "cell_type": "code",
      "source": [
        "t1=(10,20,5,15)\n",
        "i=0\n",
        "while i<len(t1):\n",
        "  print(t1[i],end=\" \")\n",
        "  i+=1\n",
        "  print('\\n')\n",
        "for a in t1:\n",
        "  print(a,end=\" \")\n",
        "\n",
        "  \"max,len,min,sum,sorted\"\n",
        "  \"t1+t2\"\n",
        "  \"t1*3\"\n",
        "\n",
        "\n",
        "\n"
      ],
      "metadata": {
        "colab": {
          "base_uri": "https://localhost:8080/"
        },
        "id": "bet_VAu7KHa8",
        "outputId": "55b28d3d-f651-45b9-f03a-f070de8623e5"
      },
      "execution_count": null,
      "outputs": [
        {
          "output_type": "stream",
          "name": "stdout",
          "text": [
            "10 \n",
            "\n",
            "20 \n",
            "\n",
            "5 \n",
            "\n",
            "15 \n",
            "\n",
            "10 20 5 15 "
          ]
        }
      ]
    },
    {
      "cell_type": "code",
      "source": [
        "\n",
        "  t1=(10,20)\n",
        "  t2=(10,33,55)\n",
        "  print(t1>t2)\n",
        "  print(t2>t1)\n",
        "\n",
        "  t3=(11,20,30,55)\n",
        "  t4=(10,20,30,56)\n",
        "  print(t3>t4)\n",
        "  print(t3==t4)\n",
        "  print(t4.index(30))\n",
        "  print(t4.count(30))\n",
        "  t3[1:3:]"
      ],
      "metadata": {
        "colab": {
          "base_uri": "https://localhost:8080/"
        },
        "id": "3ah462NNLggm",
        "outputId": "4d19b138-55f7-4956-eea3-83256970b598"
      },
      "execution_count": null,
      "outputs": [
        {
          "output_type": "stream",
          "name": "stdout",
          "text": [
            "False\n",
            "True\n",
            "True\n",
            "False\n",
            "2\n",
            "1\n"
          ]
        },
        {
          "output_type": "execute_result",
          "data": {
            "text/plain": [
              "(20, 30)"
            ]
          },
          "metadata": {},
          "execution_count": 94
        }
      ]
    },
    {
      "cell_type": "code",
      "source": [
        "t1=tuple([int(e) for e in input().split(' ')])"
      ],
      "metadata": {
        "colab": {
          "base_uri": "https://localhost:8080/"
        },
        "id": "9cYH1staM_Qv",
        "outputId": "ce23f060-eebe-4778-d53e-9515db518170"
      },
      "execution_count": null,
      "outputs": [
        {
          "name": "stdout",
          "output_type": "stream",
          "text": [
            "1 2 3\n"
          ]
        }
      ]
    },
    {
      "cell_type": "code",
      "source": [
        "t1=tuple()\n",
        "print(t1)\n",
        "t2=tuple([1,2,3])\n",
        "print(t2)\n",
        "t3=tuple(range(5))\n",
        "print(t3)"
      ],
      "metadata": {
        "colab": {
          "base_uri": "https://localhost:8080/"
        },
        "id": "ZywIIaGtKTD9",
        "outputId": "b472070f-ff2e-4318-e436-a54a22c85ec9"
      },
      "execution_count": null,
      "outputs": [
        {
          "output_type": "stream",
          "name": "stdout",
          "text": [
            "()\n",
            "(1, 2, 3)\n",
            "(0, 1, 2, 3, 4)\n"
          ]
        }
      ]
    },
    {
      "cell_type": "code",
      "source": [
        "#set-mutable,not sequence,no duplicacy,no slicing\n",
        "#st can have numbers,tuple,string as items but cannot hav e list or dict as item as these  are mutable\n",
        "s1={1,5,8}\n",
        "print(type(s1))\n",
        "print(s1)\n",
        "s2={10,2,3,4,4,2,7}\n",
        "print(s2)\n",
        "s3={}\n",
        "print(type(s3))\n",
        "s4=set()\n",
        "print(type(s4))\n",
        "#s5=set(10,20,30) not allowed only one arg and it should be iterable\n",
        "s5=set(\"myname\")\n",
        "print(s5)\n",
        "s6=set([10,20,30,40])\n",
        "print(s6)"
      ],
      "metadata": {
        "colab": {
          "base_uri": "https://localhost:8080/"
        },
        "id": "vqyr0UbtNy1X",
        "outputId": "fbd263bc-262b-4b5d-813b-b2df7a49e8e9"
      },
      "execution_count": null,
      "outputs": [
        {
          "output_type": "stream",
          "name": "stdout",
          "text": [
            "<class 'set'>\n",
            "{8, 1, 5}\n",
            "{2, 3, 4, 7, 10}\n",
            "<class 'dict'>\n",
            "<class 'set'>\n",
            "{'y', 'a', 'n', 'e', 'm'}\n",
            "{40, 10, 20, 30}\n"
          ]
        }
      ]
    },
    {
      "cell_type": "code",
      "source": [
        "#remove duplicate elements from a list\n",
        "l1=[20,10,50,20,30,50,20,10]\n",
        "l2=list(set(l1))\n",
        "print(l2)\n",
        "\n",
        "l3=list(set([int(x) for x in input(\"enter num seperated by comma\").split(\",\")]))\n",
        "print(l3)"
      ],
      "metadata": {
        "colab": {
          "base_uri": "https://localhost:8080/"
        },
        "id": "qpa1ycopP7XI",
        "outputId": "20d25d84-e7a3-4e1a-dac4-298db649952d"
      },
      "execution_count": null,
      "outputs": [
        {
          "output_type": "stream",
          "name": "stdout",
          "text": [
            "[10, 20, 50, 30]\n",
            "enter num seperated by comma10,20,30\n",
            "[10, 20, 30]\n"
          ]
        }
      ]
    },
    {
      "cell_type": "code",
      "source": [
        "s1=set([20,10,50,20,30,50,20,10])\n",
        "print(l1)\n",
        "for e in s1:\n",
        "  print(e)\n",
        "\n",
        "  #len\n",
        "  #max\n",
        "  #min\n",
        "  #sum\n",
        "  #sorted\n",
        "  #s1+s2 =not possible\n",
        "  #s1*s2=not possible\n",
        "  #comaprison supported\n",
        "  #two set objects are equal if their elements are same order doesn't matter\n",
        "\n"
      ],
      "metadata": {
        "colab": {
          "base_uri": "https://localhost:8080/"
        },
        "id": "UYa_HCMfREn3",
        "outputId": "f83790ab-fc00-45ae-9a04-7f53ba107b0a"
      },
      "execution_count": null,
      "outputs": [
        {
          "output_type": "stream",
          "name": "stdout",
          "text": [
            "{10, 20, 50, 30}\n",
            "10\n",
            "20\n",
            "50\n",
            "30\n"
          ]
        }
      ]
    },
    {
      "cell_type": "code",
      "source": [
        "s1={10,20,30}\n",
        "s1.add(60)\n",
        "print(s1)\n",
        "s1.add((11,22,33))#iterable and non iterable object\n",
        "print(s1)\n",
        "s1.update([44])#only iterable object\n",
        "\n"
      ],
      "metadata": {
        "colab": {
          "base_uri": "https://localhost:8080/"
        },
        "id": "5ru5JHYtSTsp",
        "outputId": "85a27128-631f-487a-b10d-111df1cf69aa"
      },
      "execution_count": null,
      "outputs": [
        {
          "output_type": "stream",
          "name": "stdout",
          "text": [
            "{10, 20, 30, 60}\n",
            "{10, (11, 22, 33), 20, 60, 30}\n"
          ]
        }
      ]
    },
    {
      "cell_type": "code",
      "source": [
        "s1={10,20,30}\n",
        "s1.update((11,22,33))#iterable elements becomes set elements\n",
        "print(s1)"
      ],
      "metadata": {
        "colab": {
          "base_uri": "https://localhost:8080/"
        },
        "id": "VoRfq-oPW2Q6",
        "outputId": "c9340a85-0b36-43a5-8b79-4b29c966adc8"
      },
      "execution_count": null,
      "outputs": [
        {
          "output_type": "stream",
          "name": "stdout",
          "text": [
            "{33, 10, 11, 20, 22, 30}\n"
          ]
        }
      ]
    },
    {
      "cell_type": "code",
      "source": [
        "s=input(\"enter a string\")\n",
        "\n",
        "s1={ e for e in s if e in \"aeiou\"}\n",
        "print(s1)\n",
        "\"\"\"for e in s:\n",
        "  if e in \"aeiou\":\n",
        "    s1.add(e)\"\"\""
      ],
      "metadata": {
        "colab": {
          "base_uri": "https://localhost:8080/"
        },
        "id": "Le29kgIXXWUr",
        "outputId": "73e76da6-f100-4dcb-db71-374a3225bf9b"
      },
      "execution_count": null,
      "outputs": [
        {
          "output_type": "stream",
          "name": "stdout",
          "text": [
            "enter a stringsaurabh\n",
            "{'a', 'u'}\n"
          ]
        }
      ]
    },
    {
      "cell_type": "code",
      "source": [
        "s1={10,20,30}\n",
        "s1.remove(10)#throws error if element is not presnt\n",
        "print(s1)\n",
        "print(s1.discard(30))#doesn't throws error if element is not presnt\n",
        "print(s1)\n"
      ],
      "metadata": {
        "colab": {
          "base_uri": "https://localhost:8080/"
        },
        "id": "pIuMpQvJYY8Q",
        "outputId": "c2d3b24e-ddc3-444a-e7c7-a5aa64831418"
      },
      "execution_count": null,
      "outputs": [
        {
          "output_type": "stream",
          "name": "stdout",
          "text": [
            "{20, 30}\n",
            "None\n",
            "{20}\n"
          ]
        }
      ]
    },
    {
      "cell_type": "code",
      "source": [
        "s9={1,2,3,4,55,6,7}\n",
        "s9.pop()# it returns the pop out element\n",
        "s9.clear()#make it empty set\n",
        "print(s9)"
      ],
      "metadata": {
        "colab": {
          "base_uri": "https://localhost:8080/"
        },
        "id": "uvTVTOLcZ5Ct",
        "outputId": "a062dc18-b870-4c3e-c5cf-52b56d8beae3"
      },
      "execution_count": null,
      "outputs": [
        {
          "output_type": "stream",
          "name": "stdout",
          "text": [
            "set()\n"
          ]
        }
      ]
    },
    {
      "cell_type": "code",
      "source": [
        "s9={1,2,3,4,55,6,7}\n",
        "s10={1,2,8,99,66,56}\n",
        "print(s9.intersection(s10))\n",
        "print(s9.union(s10))\n",
        "print(s9.issubset(s10))\n",
        "print(s9.issuperset(s10))"
      ],
      "metadata": {
        "colab": {
          "base_uri": "https://localhost:8080/"
        },
        "id": "v5AKgvZ7aFaU",
        "outputId": "54a46398-dc46-4114-848c-cab44047ce4e"
      },
      "execution_count": null,
      "outputs": [
        {
          "output_type": "stream",
          "name": "stdout",
          "text": [
            "{1, 2}\n",
            "{1, 2, 3, 4, 99, 6, 7, 66, 8, 55, 56}\n",
            "False\n",
            "False\n"
          ]
        }
      ]
    },
    {
      "cell_type": "code",
      "source": [
        "#dict-mutable,not in sequence,indexing is valid,no duplicate key but data can be,pair of key-value and data type,slicing in not applicable,no iterable can be passed\n",
        "d1={1:\"saurabh\",2:\"shweta\",3:\"Sapna\",4:\"isha\"}\n",
        "print(d1)\n",
        "print(type(d1))\n",
        "d2={}#empty dict\n",
        "print(type(d2))\n",
        "d3=dict()#empty dict\n",
        "print(d3)\n",
        "#here var(r,c) becomes key by considering name as string.when we craete any dict using dict() this is the limitation\n",
        "d4=dict(r=\"raja\",c=\"chutiya\")\n",
        "print(d4)"
      ],
      "metadata": {
        "id": "A3j96-rEbHjT",
        "colab": {
          "base_uri": "https://localhost:8080/"
        },
        "outputId": "0dd82dbe-bc40-4f7d-a35f-3666732b1a27"
      },
      "execution_count": null,
      "outputs": [
        {
          "output_type": "stream",
          "name": "stdout",
          "text": [
            "{1: 'saurabh', 2: 'shweta', 3: 'Sapna', 4: 'isha'}\n",
            "<class 'dict'>\n",
            "<class 'dict'>\n",
            "{}\n",
            "{'r': 'raja', 'c': 'chutiya'}\n"
          ]
        }
      ]
    },
    {
      "cell_type": "code",
      "source": [
        "d1={1:\"saurabh\",2:\"shweta\",3:\"Sapna\",4:\"isha\"}\n",
        "print(d1)\n",
        "print(d1[1],d1[2],d1[3])\n",
        "for k in d1:\n",
        "  print(k)#to print keys\n",
        "for k in d1:\n",
        "  print(k,d1[k])#to print keys and data value together"
      ],
      "metadata": {
        "colab": {
          "base_uri": "https://localhost:8080/"
        },
        "id": "OX8cCv_RJRxo",
        "outputId": "68f0aec1-03d0-41af-b202-d334d738a30c"
      },
      "execution_count": null,
      "outputs": [
        {
          "output_type": "stream",
          "name": "stdout",
          "text": [
            "{1: 'saurabh', 2: 'shweta', 3: 'Sapna', 4: 'isha'}\n",
            "saurabh shweta Sapna\n",
            "1\n",
            "2\n",
            "3\n",
            "4\n",
            "1 saurabh\n",
            "2 shweta\n",
            "3 Sapna\n",
            "4 isha\n"
          ]
        }
      ]
    },
    {
      "cell_type": "code",
      "source": [
        "d1={1:\"saurabh\",2:\"shweta\",3:\"Sapna\",4:\"isha\"}\n",
        "d1[1]='Ram'\n",
        "#if wanna change data value with key value\n",
        "print(d1)\n",
        "d1[5]=\"Arya\"\n",
        "#if key value is not present in dict then it will assign a new key as well as new data value\n",
        "print(d1)"
      ],
      "metadata": {
        "colab": {
          "base_uri": "https://localhost:8080/"
        },
        "id": "GERM4VrmLVVc",
        "outputId": "43196a23-c1bc-4ac9-c830-a76056923bd8"
      },
      "execution_count": null,
      "outputs": [
        {
          "output_type": "stream",
          "name": "stdout",
          "text": [
            "{1: 'Ram', 2: 'shweta', 3: 'Sapna', 4: 'isha'}\n",
            "{1: 'Ram', 2: 'shweta', 3: 'Sapna', 4: 'isha', 5: 'Arya'}\n"
          ]
        }
      ]
    },
    {
      "cell_type": "code",
      "source": [
        "#dict methods\n",
        "d1={1:\"saurabh\",2:\"shweta\",3:\"Sapna\",4:\"isha\"}\n",
        "print(d1.keys())\n",
        "print(d1.items())#gives tuple\n",
        "\n",
        "#method1:\n",
        "for t in d1.items():#t gonna accept tuple\n",
        "  k=t[0]#t[0]->index\n",
        "  d=t[1]#t[1]->data\n",
        "  print(k,d)\n",
        "#method 2(packing and unpacking)\n",
        "for t in d1.items():\n",
        "  k,d=t\n",
        "  print(k,d)\n",
        "# method 3\n",
        "for t in d1.items():\n",
        "  print(t[0],t[1])\n",
        "#method 4(unpacking)\n",
        "for k,d in d1.items():\n",
        "  print(k,d)"
      ],
      "metadata": {
        "colab": {
          "base_uri": "https://localhost:8080/"
        },
        "id": "CD9SDp0sMFYz",
        "outputId": "07a992c2-546c-4b31-bd44-b9a7ecc27b76"
      },
      "execution_count": null,
      "outputs": [
        {
          "output_type": "stream",
          "name": "stdout",
          "text": [
            "dict_keys([1, 2, 3, 4])\n",
            "dict_items([(1, 'saurabh'), (2, 'shweta'), (3, 'Sapna'), (4, 'isha')])\n",
            "1 saurabh\n",
            "2 shweta\n",
            "3 Sapna\n",
            "4 isha\n",
            "1 saurabh\n",
            "2 shweta\n",
            "3 Sapna\n",
            "4 isha\n",
            "1 saurabh\n",
            "2 shweta\n",
            "3 Sapna\n",
            "4 isha\n",
            "1 saurabh\n",
            "2 shweta\n",
            "3 Sapna\n",
            "4 isha\n"
          ]
        }
      ]
    },
    {
      "cell_type": "code",
      "source": [
        "#these fxns works only on keys\n",
        "d1={1:\"saurabh\",2:\"shweta\",3:\"Sapna\",4:\"isha\"}\n",
        "print(len(d1))\n",
        "print(min(d1))\n",
        "print(max(d1))\n",
        "print(sum(d1))\n",
        "print(sorted(d1))#returns keys"
      ],
      "metadata": {
        "colab": {
          "base_uri": "https://localhost:8080/"
        },
        "id": "EwOCwif_OYPw",
        "outputId": "de25ce41-e032-46f7-f434-5bb0f3732874"
      },
      "execution_count": null,
      "outputs": [
        {
          "output_type": "stream",
          "name": "stdout",
          "text": [
            "4\n",
            "1\n",
            "4\n",
            "10\n",
            "[1, 2, 3, 4]\n"
          ]
        }
      ]
    },
    {
      "cell_type": "code",
      "source": [
        "#d1+!d2(not supported)\n",
        "#d1!*d2(not supported)\n",
        "#d1 compare! d2 (not supported)\n",
        "# d1==d2(supported) values should be equal order doesn't matter\n",
        "#d1!=d2(supported)\n",
        "d1={1:\"saurabh\",2:\"shweta\",3:\"Sapna\",4:\"isha\"}\n",
        "print(d1.pop(1))\n",
        "print(d1)\n",
        "d1.popitem()#returns last item as a tuple\n",
        "print(d1)"
      ],
      "metadata": {
        "colab": {
          "base_uri": "https://localhost:8080/"
        },
        "id": "gJpbdfR1O6et",
        "outputId": "01a4fa8a-cb66-4367-b036-9937a5fe4ffd"
      },
      "execution_count": null,
      "outputs": [
        {
          "output_type": "stream",
          "name": "stdout",
          "text": [
            "saurabh\n",
            "{2: 'shweta', 3: 'Sapna', 4: 'isha'}\n",
            "{2: 'shweta', 3: 'Sapna'}\n"
          ]
        }
      ]
    },
    {
      "cell_type": "code",
      "source": [
        "d3={a:a**2 for a in range(1,8,1)}\n",
        "print(d3)"
      ],
      "metadata": {
        "colab": {
          "base_uri": "https://localhost:8080/"
        },
        "id": "prHBPGaUQcPp",
        "outputId": "71789dc8-db26-496f-f670-ba0ec94c853a"
      },
      "execution_count": null,
      "outputs": [
        {
          "output_type": "stream",
          "name": "stdout",
          "text": [
            "{1: 1, 2: 4, 3: 9, 4: 16, 5: 25, 6: 36, 7: 49}\n"
          ]
        }
      ]
    },
    {
      "cell_type": "code",
      "source": [
        "#function\n",
        "def abc():\n",
        "  print(\"Enter a number\")\n",
        "  n=int(input())\n",
        "  for e in range(1,n+1):\n",
        "    print(e**2,end=\" \")\n",
        "  print()\n",
        "abc()\n",
        "abc()"
      ],
      "metadata": {
        "colab": {
          "base_uri": "https://localhost:8080/"
        },
        "id": "vMXILeAVRGV0",
        "outputId": "53d742f3-eb4e-45ce-f47e-0fce32b3d1e7"
      },
      "execution_count": null,
      "outputs": [
        {
          "output_type": "stream",
          "name": "stdout",
          "text": [
            "Enter a number\n",
            "123\n",
            "1 4 9 16 25 36 49 64 81 100 121 144 169 196 225 256 289 324 361 400 441 484 529 576 625 676 729 784 841 900 961 1024 1089 1156 1225 1296 1369 1444 1521 1600 1681 1764 1849 1936 2025 2116 2209 2304 2401 2500 2601 2704 2809 2916 3025 3136 3249 3364 3481 3600 3721 3844 3969 4096 4225 4356 4489 4624 4761 4900 5041 5184 5329 5476 5625 5776 5929 6084 6241 6400 6561 6724 6889 7056 7225 7396 7569 7744 7921 8100 8281 8464 8649 8836 9025 9216 9409 9604 9801 10000 10201 10404 10609 10816 11025 11236 11449 11664 11881 12100 12321 12544 12769 12996 13225 13456 13689 13924 14161 14400 14641 14884 15129 \n",
            "Enter a number\n",
            "12\n",
            "1 4 9 16 25 36 49 64 81 100 121 144 \n"
          ]
        }
      ]
    },
    {
      "cell_type": "code",
      "source": [
        "#take nothing return nothing\n",
        "def f1():\n",
        "  a=int(input(\"enter a num\"))\n",
        "  b=a**2\n",
        "  print(\"Square of\",a,\"is\",b)\n",
        "f1()"
      ],
      "metadata": {
        "colab": {
          "base_uri": "https://localhost:8080/"
        },
        "id": "192eushFYUfT",
        "outputId": "da87f9c0-82a6-4271-e3da-bbea761b24e2"
      },
      "execution_count": null,
      "outputs": [
        {
          "output_type": "stream",
          "name": "stdout",
          "text": [
            "enter a num23\n",
            "Square of 23 is 529\n"
          ]
        }
      ]
    },
    {
      "cell_type": "code",
      "source": [
        "#takes something return nothing fxn\n",
        "def add(a,b):\n",
        "  c=a+b\n",
        "  print(\"sum:\",c)\n",
        "add(2,10)"
      ],
      "metadata": {
        "colab": {
          "base_uri": "https://localhost:8080/"
        },
        "id": "TVhnaJpOZUUo",
        "outputId": "6011ef65-47e8-40d6-ad01-15c69c24eb76"
      },
      "execution_count": null,
      "outputs": [
        {
          "output_type": "stream",
          "name": "stdout",
          "text": [
            "sum: 12\n"
          ]
        }
      ]
    },
    {
      "cell_type": "code",
      "source": [
        "#take nothing return something\n",
        "def add():\n",
        " print(\"Enter Two Numbers:\")\n",
        " a=int(input())\n",
        " b=int(input())\n",
        " c=a+b\n",
        " return c\n",
        "\n",
        " s=add()\n",
        " print(\"sum:\",s)"
      ],
      "metadata": {
        "id": "VhG2KOkBZu1S"
      },
      "execution_count": null,
      "outputs": []
    },
    {
      "cell_type": "code",
      "source": [
        "#take something return something\n",
        "def add(a,b):\n",
        "  c=a+b\n",
        "  return c\n",
        "x=add(10,20)\n",
        "print(x)"
      ],
      "metadata": {
        "colab": {
          "base_uri": "https://localhost:8080/"
        },
        "id": "R8Fu12QwagP3",
        "outputId": "32c1a40c-012a-499c-a459-6c7252e232ec"
      },
      "execution_count": null,
      "outputs": [
        {
          "output_type": "stream",
          "name": "stdout",
          "text": [
            "30\n"
          ]
        }
      ]
    },
    {
      "cell_type": "code",
      "source": [
        "#keyword args(imp example)\n",
        "#non-default arg cannot come after default arg you have to make them default\n",
        "def f1(a,b,c=50):\n",
        "  d=a+b+c\n",
        "  print(\"sum:\",d)\n",
        "\n",
        "f1(1,2,3)\n",
        "f1(10,20)"
      ],
      "metadata": {
        "colab": {
          "base_uri": "https://localhost:8080/"
        },
        "id": "mHcyJagxa500",
        "outputId": "1c0eea25-b0b3-4688-80c9-95cab9b05fd6"
      },
      "execution_count": null,
      "outputs": [
        {
          "output_type": "stream",
          "name": "stdout",
          "text": [
            "sum: 6\n",
            "sum: 80\n"
          ]
        }
      ]
    },
    {
      "cell_type": "code",
      "source": [
        "#non-default arg cannot come after default arg you have to make them default\n",
        "#def f1(a,b=0,c):\n",
        "#  d=a+b+c\n",
        "#  print(\"sum:\",d)\n",
        "def f1(a,b=0,c=0):\n",
        "    d=a+b+c\n",
        "    print(\"sum:\",d)\n"
      ],
      "metadata": {
        "id": "QLOqD_4rctvp"
      },
      "execution_count": null,
      "outputs": []
    },
    {
      "cell_type": "code",
      "source": [
        "#positional vs keyword arg\n",
        "def f1(a,b):\n",
        "  print(\"a=\",a,\"b=\",b)\n",
        "\n",
        "f1(2,3)#this is positional arg\n",
        "f1(b=2,a=3)#this is keyword arg"
      ],
      "metadata": {
        "colab": {
          "base_uri": "https://localhost:8080/"
        },
        "id": "0TmAoZB1d-kv",
        "outputId": "8f9ff5da-8241-47ef-f7d0-7be72abc2dfb"
      },
      "execution_count": null,
      "outputs": [
        {
          "output_type": "stream",
          "name": "stdout",
          "text": [
            "a= 2 b= 3\n",
            "a= 3 b= 2\n"
          ]
        }
      ]
    },
    {
      "cell_type": "code",
      "source": [
        "def f1(a,b):\n",
        "  print(\"a=\",a,\"b=\",b)\n",
        "\n",
        "#f1(2,a=3)#runtime error passing two values to a\n",
        "f1(2,b=3)#(pos,key)\n",
        "#f1(a=2,3)#synactical error pos arg follows keyword arg"
      ],
      "metadata": {
        "colab": {
          "base_uri": "https://localhost:8080/"
        },
        "id": "lHul1FpAeBZp",
        "outputId": "eda8846f-aa2d-441b-e432-5a89ff3b1fb1"
      },
      "execution_count": null,
      "outputs": [
        {
          "output_type": "stream",
          "name": "stdout",
          "text": [
            "a= 2 b= 3\n"
          ]
        }
      ]
    },
    {
      "cell_type": "code",
      "source": [
        "def add(a,b):\n",
        "  return a+b\n",
        "s=add(3,2)\n",
        "print(s)\n",
        "\n",
        "x=add\n",
        "print(id(add))\n",
        "print(id(x))\n"
      ],
      "metadata": {
        "colab": {
          "base_uri": "https://localhost:8080/"
        },
        "id": "LodX_EKEIPXQ",
        "outputId": "cfa72343-afe4-4e75-9cbb-3ac146d0f174"
      },
      "execution_count": null,
      "outputs": [
        {
          "output_type": "stream",
          "name": "stdout",
          "text": [
            "5\n",
            "139378612525744\n",
            "139378612525744\n"
          ]
        }
      ]
    },
    {
      "cell_type": "code",
      "source": [
        "#lamda fxn-sytacticalley resrtricted to a single line expresiion\n",
        "#used where we work in single line\n",
        "#no need of def and return keyword\n",
        "#fxn without name\n",
        "#used when it is no longer be used further\n",
        "k=(lambda a,b:a+b)(2,3)\n",
        "print(k)\n",
        "\n",
        "add=(lambda c,d:c+d)\n",
        "print(add(10,20))\n",
        "\n",
        "x=lambda a:a+10\n",
        "print(x(5));\n",
        "#syntax is \"lambda args:expression\"\n",
        "#mutiple args\n",
        "x=lambda a,b:a*b\n",
        "print(x(5,6))\n",
        "\n",
        "#example\n",
        "def xyz(n):\n",
        "  return lambda a=a*n;\n",
        "num= xyz(2)\n",
        "print(num(10))"
      ],
      "metadata": {
        "colab": {
          "base_uri": "https://localhost:8080/"
        },
        "id": "u_GXwY3yhK1m",
        "outputId": "082678c4-c6a9-4312-e1a3-01323a70a811"
      },
      "execution_count": null,
      "outputs": [
        {
          "output_type": "stream",
          "name": "stdout",
          "text": [
            "5\n",
            "30\n"
          ]
        }
      ]
    },
    {
      "cell_type": "code",
      "source": [
        "#recursion using lambda\n",
        "f1=lambda n:1 if n==0 or n==1  else n*f1(n-1)\n",
        "print(f1(5))\n",
        "print(f1(100))"
      ],
      "metadata": {
        "colab": {
          "base_uri": "https://localhost:8080/"
        },
        "id": "dJUEbazpJ9iU",
        "outputId": "ef3638a9-1109-41b1-f74b-b610f46f7780"
      },
      "execution_count": null,
      "outputs": [
        {
          "output_type": "stream",
          "name": "stdout",
          "text": [
            "120\n",
            "93326215443944152681699238856266700490715968264381621468592963895217599993229915608941463976156518286253697920827223758251185210916864000000000000000000000000\n"
          ]
        }
      ]
    },
    {
      "cell_type": "code",
      "source": [
        "#lambda fxn\n",
        "#x=lambda input:expression\n",
        "'''x=lambda x:x**2\n",
        "x(9)\n",
        "a=lambda x,y:x+y\n",
        "a(4,5)\n",
        "#diff\n",
        "-no return type\n",
        "-it returns a fxn using type()\n",
        "-one line\n",
        "-used for one time use(code reusability)\n",
        "-no name\n",
        "\n",
        "#why?\n",
        "-used along with higher order fxns\n",
        "-higher oder fxns are those fxn which requires one more fxn to work on in an input\n",
        "\n",
        "\n",
        "#to check whether a input first char is a or not\n",
        "b = lambda x: x[0] == 'a'\n",
        "print(b('apple'))'''\n",
        "#\n",
        "b=lambda x:'even'if x%2==0  else 'odd'\n",
        "print(b(9))\n",
        "\n",
        "\n"
      ],
      "metadata": {
        "colab": {
          "base_uri": "https://localhost:8080/"
        },
        "id": "afz18d3--Kby",
        "outputId": "5d48f64f-895f-4a30-bfcd-86c5d099cc77"
      },
      "execution_count": null,
      "outputs": [
        {
          "output_type": "stream",
          "name": "stdout",
          "text": [
            "odd\n"
          ]
        }
      ]
    },
    {
      "cell_type": "code",
      "source": [
        "#higher oder function\n",
        "'''normal function:\n",
        "def return_sum(l):\n",
        "    even_sum = 0\n",
        "    odd_sum = 0\n",
        "\n",
        "    for i in l:\n",
        "        if i % 2 == 0:\n",
        "            even_sum += i\n",
        "        else:\n",
        "            odd_sum += i\n",
        "\n",
        "    return even_sum, odd_sum\n",
        "\n",
        "l = [12, 23, 14, 45, 67, 12, 34]\n",
        "result = return_sum(l)\n",
        "print(\"Even sum:\", result[0])\n",
        "print(\"Odd sum:\", result[1])\n",
        "\n",
        "HOF-\n",
        "def return_sum(func,l):\n",
        "  result=0\n",
        "  for i in l:\n",
        "    if func(i):\n",
        "      result+=i\n",
        "  return result\n",
        "l = [12, 23, 14, 45, 67, 12, 34]\n",
        "x=lambda x:x%2==0\n",
        "y=x=lambda x:x%2!=0\n",
        "z=lambda x:x%3==0\n",
        "\n",
        "print(return_sum(x,l))\n",
        "print(return_sum(y,l))\n",
        "print(return_sum(z,l))\n",
        "\n",
        "\n",
        "#python higher order fxns\n",
        "-map\n",
        "-filter\n",
        "-reduce\n",
        "\n",
        "#map\n",
        "l = [12, 23, 14, 45, 67, 12, 34]\n",
        "map(lambda x:x*2,l)\n",
        "list(map(lambda x:x*2,l))\n",
        "list(map(lambda x:x%2==0,l))\n",
        "\n",
        "\n",
        "#filter\n",
        "l = [12, 23, 14, 45, 67, 12, 34]\n",
        "a=filter(lambda x:x>45,l)\n",
        "list(a)\n",
        "\n",
        "fruits=['mango','apple','banana','cherry','pineapple']\n",
        "a=filter(lambda fruits:'e' in fruits,fruits)\n",
        "list(a)\n",
        "\n",
        "\n",
        "#reduce\n",
        "#add first two then again next two and so on\n",
        "import functools\n",
        "l = [12, 23, 14, 45, 67, 12, 34]\n",
        "a=functools.reduce(lambda x,y:x+y,l)\n",
        "print(a) '''\n",
        "\n",
        "import functools\n",
        "l = [12, 23, 14, 45, 67, 12, 34]\n",
        "a=functools.reduce(lambda x,y:x if x>y else y,l)\n",
        "print(a)\n",
        "\n",
        "\n"
      ],
      "metadata": {
        "colab": {
          "base_uri": "https://localhost:8080/"
        },
        "id": "3klVq_0cBuNt",
        "outputId": "74371461-9755-401d-a25d-e7bcae56ad01"
      },
      "execution_count": null,
      "outputs": [
        {
          "output_type": "stream",
          "name": "stdout",
          "text": [
            "67\n"
          ]
        }
      ]
    },
    {
      "cell_type": "code",
      "source": [
        "#polymorphism's 1)method overloading 2)method overriding 3)operator overloading-only this is done using magic method"
      ],
      "metadata": {
        "id": "t5TP8Hc7KBvM"
      },
      "execution_count": null,
      "outputs": []
    },
    {
      "cell_type": "code",
      "source": [
        "#https://indianrailapi.com/api-collection-json formater-pip install requests-"
      ],
      "metadata": {
        "id": "01eyu89-O412"
      },
      "execution_count": null,
      "outputs": []
    },
    {
      "cell_type": "code",
      "source": [
        "import requests\n",
        "class IRCTC:\n",
        "  def __init__(self):\n",
        "    user_input=input(\"\"\"Your Query\n",
        "    Enter 1 to check live train status\n",
        "    Enter 2 to check PNR\n",
        "    Enter 3 to check trai Schedule\"\"\")\n",
        "\n",
        "    if user_input ==\"1\":\n",
        "      print(\"live train status\")\n",
        "    elif user_input ==\"2\":\n",
        "      print(\"PNR\")\n",
        "    else:\n",
        "      self.train_schedule()\n",
        "\n",
        "\n",
        "  def train_schedule(self):\n",
        "    train_no=input(\"enter the train no\")\n",
        "    self.fetch_data(train_no)\n",
        "\n",
        "  def fetch_data(self,train_no):\n",
        "    data = requests.get(\"https://indianrailapil.com/api/v2/TrainSchedule/apikey /30c382602bfa67c8a7c580e6cfe2becb/TrainNumber/{}\".format(train_no))\n",
        "\n",
        "    data=data.json()\n",
        "    print(data['Route'])\n",
        "\n",
        "    for i in data['Route']:\n",
        "      print(i['StationName'],\"|\",i[\"ArrivalTime\"],\"|\",i[\"DepartureTime\"],\"|\",i[\"Distance\"],\"kms\")\n",
        "\n",
        "\n",
        "\n",
        "obj=IRCTC()\n"
      ],
      "metadata": {
        "colab": {
          "base_uri": "https://localhost:8080/",
          "height": 877
        },
        "id": "VziKOd6OQc_2",
        "outputId": "4a0c4128-0d01-4bba-c945-4d781d45a9b7"
      },
      "execution_count": null,
      "outputs": [
        {
          "name": "stdout",
          "output_type": "stream",
          "text": [
            "Your Query\n",
            "    Enter 1 to check live train status\n",
            "    Enter 2 to check PNR\n",
            "    Enter 3 to check trai Schedule3\n",
            "enter the train no12222\n"
          ]
        },
        {
          "output_type": "error",
          "ename": "ConnectionError",
          "evalue": "HTTPSConnectionPool(host='indianrailapil.com', port=443): Max retries exceeded with url: /api/v2/TrainSchedule/apikey%20/30c382602bfa67c8a7c580e6cfe2becb/TrainNumber/12222 (Caused by NameResolutionError(\"<urllib3.connection.HTTPSConnection object at 0x7e1ad7c527a0>: Failed to resolve 'indianrailapil.com' ([Errno -2] Name or service not known)\"))",
          "traceback": [
            "\u001b[0;31m---------------------------------------------------------------------------\u001b[0m",
            "\u001b[0;31mgaierror\u001b[0m                                  Traceback (most recent call last)",
            "\u001b[0;32m/usr/local/lib/python3.10/dist-packages/urllib3/connection.py\u001b[0m in \u001b[0;36m_new_conn\u001b[0;34m(self)\u001b[0m\n\u001b[1;32m    202\u001b[0m         \u001b[0;32mtry\u001b[0m\u001b[0;34m:\u001b[0m\u001b[0;34m\u001b[0m\u001b[0;34m\u001b[0m\u001b[0m\n\u001b[0;32m--> 203\u001b[0;31m             sock = connection.create_connection(\n\u001b[0m\u001b[1;32m    204\u001b[0m                 \u001b[0;34m(\u001b[0m\u001b[0mself\u001b[0m\u001b[0;34m.\u001b[0m\u001b[0m_dns_host\u001b[0m\u001b[0;34m,\u001b[0m \u001b[0mself\u001b[0m\u001b[0;34m.\u001b[0m\u001b[0mport\u001b[0m\u001b[0;34m)\u001b[0m\u001b[0;34m,\u001b[0m\u001b[0;34m\u001b[0m\u001b[0;34m\u001b[0m\u001b[0m\n",
            "\u001b[0;32m/usr/local/lib/python3.10/dist-packages/urllib3/util/connection.py\u001b[0m in \u001b[0;36mcreate_connection\u001b[0;34m(address, timeout, source_address, socket_options)\u001b[0m\n\u001b[1;32m     59\u001b[0m \u001b[0;34m\u001b[0m\u001b[0m\n\u001b[0;32m---> 60\u001b[0;31m     \u001b[0;32mfor\u001b[0m \u001b[0mres\u001b[0m \u001b[0;32min\u001b[0m \u001b[0msocket\u001b[0m\u001b[0;34m.\u001b[0m\u001b[0mgetaddrinfo\u001b[0m\u001b[0;34m(\u001b[0m\u001b[0mhost\u001b[0m\u001b[0;34m,\u001b[0m \u001b[0mport\u001b[0m\u001b[0;34m,\u001b[0m \u001b[0mfamily\u001b[0m\u001b[0;34m,\u001b[0m \u001b[0msocket\u001b[0m\u001b[0;34m.\u001b[0m\u001b[0mSOCK_STREAM\u001b[0m\u001b[0;34m)\u001b[0m\u001b[0;34m:\u001b[0m\u001b[0;34m\u001b[0m\u001b[0;34m\u001b[0m\u001b[0m\n\u001b[0m\u001b[1;32m     61\u001b[0m         \u001b[0maf\u001b[0m\u001b[0;34m,\u001b[0m \u001b[0msocktype\u001b[0m\u001b[0;34m,\u001b[0m \u001b[0mproto\u001b[0m\u001b[0;34m,\u001b[0m \u001b[0mcanonname\u001b[0m\u001b[0;34m,\u001b[0m \u001b[0msa\u001b[0m \u001b[0;34m=\u001b[0m \u001b[0mres\u001b[0m\u001b[0;34m\u001b[0m\u001b[0;34m\u001b[0m\u001b[0m\n",
            "\u001b[0;32m/usr/lib/python3.10/socket.py\u001b[0m in \u001b[0;36mgetaddrinfo\u001b[0;34m(host, port, family, type, proto, flags)\u001b[0m\n\u001b[1;32m    954\u001b[0m     \u001b[0maddrlist\u001b[0m \u001b[0;34m=\u001b[0m \u001b[0;34m[\u001b[0m\u001b[0;34m]\u001b[0m\u001b[0;34m\u001b[0m\u001b[0;34m\u001b[0m\u001b[0m\n\u001b[0;32m--> 955\u001b[0;31m     \u001b[0;32mfor\u001b[0m \u001b[0mres\u001b[0m \u001b[0;32min\u001b[0m \u001b[0m_socket\u001b[0m\u001b[0;34m.\u001b[0m\u001b[0mgetaddrinfo\u001b[0m\u001b[0;34m(\u001b[0m\u001b[0mhost\u001b[0m\u001b[0;34m,\u001b[0m \u001b[0mport\u001b[0m\u001b[0;34m,\u001b[0m \u001b[0mfamily\u001b[0m\u001b[0;34m,\u001b[0m \u001b[0mtype\u001b[0m\u001b[0;34m,\u001b[0m \u001b[0mproto\u001b[0m\u001b[0;34m,\u001b[0m \u001b[0mflags\u001b[0m\u001b[0;34m)\u001b[0m\u001b[0;34m:\u001b[0m\u001b[0;34m\u001b[0m\u001b[0;34m\u001b[0m\u001b[0m\n\u001b[0m\u001b[1;32m    956\u001b[0m         \u001b[0maf\u001b[0m\u001b[0;34m,\u001b[0m \u001b[0msocktype\u001b[0m\u001b[0;34m,\u001b[0m \u001b[0mproto\u001b[0m\u001b[0;34m,\u001b[0m \u001b[0mcanonname\u001b[0m\u001b[0;34m,\u001b[0m \u001b[0msa\u001b[0m \u001b[0;34m=\u001b[0m \u001b[0mres\u001b[0m\u001b[0;34m\u001b[0m\u001b[0;34m\u001b[0m\u001b[0m\n",
            "\u001b[0;31mgaierror\u001b[0m: [Errno -2] Name or service not known",
            "\nThe above exception was the direct cause of the following exception:\n",
            "\u001b[0;31mNameResolutionError\u001b[0m                       Traceback (most recent call last)",
            "\u001b[0;32m/usr/local/lib/python3.10/dist-packages/urllib3/connectionpool.py\u001b[0m in \u001b[0;36murlopen\u001b[0;34m(self, method, url, body, headers, retries, redirect, assert_same_host, timeout, pool_timeout, release_conn, chunked, body_pos, preload_content, decode_content, **response_kw)\u001b[0m\n\u001b[1;32m    790\u001b[0m             \u001b[0;31m# Make the request on the HTTPConnection object\u001b[0m\u001b[0;34m\u001b[0m\u001b[0;34m\u001b[0m\u001b[0m\n\u001b[0;32m--> 791\u001b[0;31m             response = self._make_request(\n\u001b[0m\u001b[1;32m    792\u001b[0m                 \u001b[0mconn\u001b[0m\u001b[0;34m,\u001b[0m\u001b[0;34m\u001b[0m\u001b[0;34m\u001b[0m\u001b[0m\n",
            "\u001b[0;32m/usr/local/lib/python3.10/dist-packages/urllib3/connectionpool.py\u001b[0m in \u001b[0;36m_make_request\u001b[0;34m(self, conn, method, url, body, headers, retries, timeout, chunked, response_conn, preload_content, decode_content, enforce_content_length)\u001b[0m\n\u001b[1;32m    491\u001b[0m                 \u001b[0mnew_e\u001b[0m \u001b[0;34m=\u001b[0m \u001b[0m_wrap_proxy_error\u001b[0m\u001b[0;34m(\u001b[0m\u001b[0mnew_e\u001b[0m\u001b[0;34m,\u001b[0m \u001b[0mconn\u001b[0m\u001b[0;34m.\u001b[0m\u001b[0mproxy\u001b[0m\u001b[0;34m.\u001b[0m\u001b[0mscheme\u001b[0m\u001b[0;34m)\u001b[0m\u001b[0;34m\u001b[0m\u001b[0;34m\u001b[0m\u001b[0m\n\u001b[0;32m--> 492\u001b[0;31m             \u001b[0;32mraise\u001b[0m \u001b[0mnew_e\u001b[0m\u001b[0;34m\u001b[0m\u001b[0;34m\u001b[0m\u001b[0m\n\u001b[0m\u001b[1;32m    493\u001b[0m \u001b[0;34m\u001b[0m\u001b[0m\n",
            "\u001b[0;32m/usr/local/lib/python3.10/dist-packages/urllib3/connectionpool.py\u001b[0m in \u001b[0;36m_make_request\u001b[0;34m(self, conn, method, url, body, headers, retries, timeout, chunked, response_conn, preload_content, decode_content, enforce_content_length)\u001b[0m\n\u001b[1;32m    467\u001b[0m             \u001b[0;32mtry\u001b[0m\u001b[0;34m:\u001b[0m\u001b[0;34m\u001b[0m\u001b[0;34m\u001b[0m\u001b[0m\n\u001b[0;32m--> 468\u001b[0;31m                 \u001b[0mself\u001b[0m\u001b[0;34m.\u001b[0m\u001b[0m_validate_conn\u001b[0m\u001b[0;34m(\u001b[0m\u001b[0mconn\u001b[0m\u001b[0;34m)\u001b[0m\u001b[0;34m\u001b[0m\u001b[0;34m\u001b[0m\u001b[0m\n\u001b[0m\u001b[1;32m    469\u001b[0m             \u001b[0;32mexcept\u001b[0m \u001b[0;34m(\u001b[0m\u001b[0mSocketTimeout\u001b[0m\u001b[0;34m,\u001b[0m \u001b[0mBaseSSLError\u001b[0m\u001b[0;34m)\u001b[0m \u001b[0;32mas\u001b[0m \u001b[0me\u001b[0m\u001b[0;34m:\u001b[0m\u001b[0;34m\u001b[0m\u001b[0;34m\u001b[0m\u001b[0m\n",
            "\u001b[0;32m/usr/local/lib/python3.10/dist-packages/urllib3/connectionpool.py\u001b[0m in \u001b[0;36m_validate_conn\u001b[0;34m(self, conn)\u001b[0m\n\u001b[1;32m   1096\u001b[0m         \u001b[0;32mif\u001b[0m \u001b[0mconn\u001b[0m\u001b[0;34m.\u001b[0m\u001b[0mis_closed\u001b[0m\u001b[0;34m:\u001b[0m\u001b[0;34m\u001b[0m\u001b[0;34m\u001b[0m\u001b[0m\n\u001b[0;32m-> 1097\u001b[0;31m             \u001b[0mconn\u001b[0m\u001b[0;34m.\u001b[0m\u001b[0mconnect\u001b[0m\u001b[0;34m(\u001b[0m\u001b[0;34m)\u001b[0m\u001b[0;34m\u001b[0m\u001b[0;34m\u001b[0m\u001b[0m\n\u001b[0m\u001b[1;32m   1098\u001b[0m \u001b[0;34m\u001b[0m\u001b[0m\n",
            "\u001b[0;32m/usr/local/lib/python3.10/dist-packages/urllib3/connection.py\u001b[0m in \u001b[0;36mconnect\u001b[0;34m(self)\u001b[0m\n\u001b[1;32m    610\u001b[0m         \u001b[0msock\u001b[0m\u001b[0;34m:\u001b[0m \u001b[0msocket\u001b[0m\u001b[0;34m.\u001b[0m\u001b[0msocket\u001b[0m \u001b[0;34m|\u001b[0m \u001b[0mssl\u001b[0m\u001b[0;34m.\u001b[0m\u001b[0mSSLSocket\u001b[0m\u001b[0;34m\u001b[0m\u001b[0;34m\u001b[0m\u001b[0m\n\u001b[0;32m--> 611\u001b[0;31m         \u001b[0mself\u001b[0m\u001b[0;34m.\u001b[0m\u001b[0msock\u001b[0m \u001b[0;34m=\u001b[0m \u001b[0msock\u001b[0m \u001b[0;34m=\u001b[0m \u001b[0mself\u001b[0m\u001b[0;34m.\u001b[0m\u001b[0m_new_conn\u001b[0m\u001b[0;34m(\u001b[0m\u001b[0;34m)\u001b[0m\u001b[0;34m\u001b[0m\u001b[0;34m\u001b[0m\u001b[0m\n\u001b[0m\u001b[1;32m    612\u001b[0m         \u001b[0mserver_hostname\u001b[0m\u001b[0;34m:\u001b[0m \u001b[0mstr\u001b[0m \u001b[0;34m=\u001b[0m \u001b[0mself\u001b[0m\u001b[0;34m.\u001b[0m\u001b[0mhost\u001b[0m\u001b[0;34m\u001b[0m\u001b[0;34m\u001b[0m\u001b[0m\n",
            "\u001b[0;32m/usr/local/lib/python3.10/dist-packages/urllib3/connection.py\u001b[0m in \u001b[0;36m_new_conn\u001b[0;34m(self)\u001b[0m\n\u001b[1;32m    209\u001b[0m         \u001b[0;32mexcept\u001b[0m \u001b[0msocket\u001b[0m\u001b[0;34m.\u001b[0m\u001b[0mgaierror\u001b[0m \u001b[0;32mas\u001b[0m \u001b[0me\u001b[0m\u001b[0;34m:\u001b[0m\u001b[0;34m\u001b[0m\u001b[0;34m\u001b[0m\u001b[0m\n\u001b[0;32m--> 210\u001b[0;31m             \u001b[0;32mraise\u001b[0m \u001b[0mNameResolutionError\u001b[0m\u001b[0;34m(\u001b[0m\u001b[0mself\u001b[0m\u001b[0;34m.\u001b[0m\u001b[0mhost\u001b[0m\u001b[0;34m,\u001b[0m \u001b[0mself\u001b[0m\u001b[0;34m,\u001b[0m \u001b[0me\u001b[0m\u001b[0;34m)\u001b[0m \u001b[0;32mfrom\u001b[0m \u001b[0me\u001b[0m\u001b[0;34m\u001b[0m\u001b[0;34m\u001b[0m\u001b[0m\n\u001b[0m\u001b[1;32m    211\u001b[0m         \u001b[0;32mexcept\u001b[0m \u001b[0mSocketTimeout\u001b[0m \u001b[0;32mas\u001b[0m \u001b[0me\u001b[0m\u001b[0;34m:\u001b[0m\u001b[0;34m\u001b[0m\u001b[0;34m\u001b[0m\u001b[0m\n",
            "\u001b[0;31mNameResolutionError\u001b[0m: <urllib3.connection.HTTPSConnection object at 0x7e1ad7c527a0>: Failed to resolve 'indianrailapil.com' ([Errno -2] Name or service not known)",
            "\nThe above exception was the direct cause of the following exception:\n",
            "\u001b[0;31mMaxRetryError\u001b[0m                             Traceback (most recent call last)",
            "\u001b[0;32m/usr/local/lib/python3.10/dist-packages/requests/adapters.py\u001b[0m in \u001b[0;36msend\u001b[0;34m(self, request, stream, timeout, verify, cert, proxies)\u001b[0m\n\u001b[1;32m    485\u001b[0m         \u001b[0;32mtry\u001b[0m\u001b[0;34m:\u001b[0m\u001b[0;34m\u001b[0m\u001b[0;34m\u001b[0m\u001b[0m\n\u001b[0;32m--> 486\u001b[0;31m             resp = conn.urlopen(\n\u001b[0m\u001b[1;32m    487\u001b[0m                 \u001b[0mmethod\u001b[0m\u001b[0;34m=\u001b[0m\u001b[0mrequest\u001b[0m\u001b[0;34m.\u001b[0m\u001b[0mmethod\u001b[0m\u001b[0;34m,\u001b[0m\u001b[0;34m\u001b[0m\u001b[0;34m\u001b[0m\u001b[0m\n",
            "\u001b[0;32m/usr/local/lib/python3.10/dist-packages/urllib3/connectionpool.py\u001b[0m in \u001b[0;36murlopen\u001b[0;34m(self, method, url, body, headers, retries, redirect, assert_same_host, timeout, pool_timeout, release_conn, chunked, body_pos, preload_content, decode_content, **response_kw)\u001b[0m\n\u001b[1;32m    844\u001b[0m \u001b[0;34m\u001b[0m\u001b[0m\n\u001b[0;32m--> 845\u001b[0;31m             retries = retries.increment(\n\u001b[0m\u001b[1;32m    846\u001b[0m                 \u001b[0mmethod\u001b[0m\u001b[0;34m,\u001b[0m \u001b[0murl\u001b[0m\u001b[0;34m,\u001b[0m \u001b[0merror\u001b[0m\u001b[0;34m=\u001b[0m\u001b[0mnew_e\u001b[0m\u001b[0;34m,\u001b[0m \u001b[0m_pool\u001b[0m\u001b[0;34m=\u001b[0m\u001b[0mself\u001b[0m\u001b[0;34m,\u001b[0m \u001b[0m_stacktrace\u001b[0m\u001b[0;34m=\u001b[0m\u001b[0msys\u001b[0m\u001b[0;34m.\u001b[0m\u001b[0mexc_info\u001b[0m\u001b[0;34m(\u001b[0m\u001b[0;34m)\u001b[0m\u001b[0;34m[\u001b[0m\u001b[0;36m2\u001b[0m\u001b[0;34m]\u001b[0m\u001b[0;34m\u001b[0m\u001b[0;34m\u001b[0m\u001b[0m\n",
            "\u001b[0;32m/usr/local/lib/python3.10/dist-packages/urllib3/util/retry.py\u001b[0m in \u001b[0;36mincrement\u001b[0;34m(self, method, url, response, error, _pool, _stacktrace)\u001b[0m\n\u001b[1;32m    514\u001b[0m             \u001b[0mreason\u001b[0m \u001b[0;34m=\u001b[0m \u001b[0merror\u001b[0m \u001b[0;32mor\u001b[0m \u001b[0mResponseError\u001b[0m\u001b[0;34m(\u001b[0m\u001b[0mcause\u001b[0m\u001b[0;34m)\u001b[0m\u001b[0;34m\u001b[0m\u001b[0;34m\u001b[0m\u001b[0m\n\u001b[0;32m--> 515\u001b[0;31m             \u001b[0;32mraise\u001b[0m \u001b[0mMaxRetryError\u001b[0m\u001b[0;34m(\u001b[0m\u001b[0m_pool\u001b[0m\u001b[0;34m,\u001b[0m \u001b[0murl\u001b[0m\u001b[0;34m,\u001b[0m \u001b[0mreason\u001b[0m\u001b[0;34m)\u001b[0m \u001b[0;32mfrom\u001b[0m \u001b[0mreason\u001b[0m  \u001b[0;31m# type: ignore[arg-type]\u001b[0m\u001b[0;34m\u001b[0m\u001b[0;34m\u001b[0m\u001b[0m\n\u001b[0m\u001b[1;32m    516\u001b[0m \u001b[0;34m\u001b[0m\u001b[0m\n",
            "\u001b[0;31mMaxRetryError\u001b[0m: HTTPSConnectionPool(host='indianrailapil.com', port=443): Max retries exceeded with url: /api/v2/TrainSchedule/apikey%20/30c382602bfa67c8a7c580e6cfe2becb/TrainNumber/12222 (Caused by NameResolutionError(\"<urllib3.connection.HTTPSConnection object at 0x7e1ad7c527a0>: Failed to resolve 'indianrailapil.com' ([Errno -2] Name or service not known)\"))",
            "\nDuring handling of the above exception, another exception occurred:\n",
            "\u001b[0;31mConnectionError\u001b[0m                           Traceback (most recent call last)",
            "\u001b[0;32m<ipython-input-27-085aeb0b823c>\u001b[0m in \u001b[0;36m<cell line: 32>\u001b[0;34m()\u001b[0m\n\u001b[1;32m     30\u001b[0m \u001b[0;34m\u001b[0m\u001b[0m\n\u001b[1;32m     31\u001b[0m \u001b[0;34m\u001b[0m\u001b[0m\n\u001b[0;32m---> 32\u001b[0;31m \u001b[0mobj\u001b[0m\u001b[0;34m=\u001b[0m\u001b[0mIRCTC\u001b[0m\u001b[0;34m(\u001b[0m\u001b[0;34m)\u001b[0m\u001b[0;34m\u001b[0m\u001b[0;34m\u001b[0m\u001b[0m\n\u001b[0m",
            "\u001b[0;32m<ipython-input-27-085aeb0b823c>\u001b[0m in \u001b[0;36m__init__\u001b[0;34m(self)\u001b[0m\n\u001b[1;32m     12\u001b[0m       \u001b[0mprint\u001b[0m\u001b[0;34m(\u001b[0m\u001b[0;34m\"PNR\"\u001b[0m\u001b[0;34m)\u001b[0m\u001b[0;34m\u001b[0m\u001b[0;34m\u001b[0m\u001b[0m\n\u001b[1;32m     13\u001b[0m     \u001b[0;32melse\u001b[0m\u001b[0;34m:\u001b[0m\u001b[0;34m\u001b[0m\u001b[0;34m\u001b[0m\u001b[0m\n\u001b[0;32m---> 14\u001b[0;31m       \u001b[0mself\u001b[0m\u001b[0;34m.\u001b[0m\u001b[0mtrain_schedule\u001b[0m\u001b[0;34m(\u001b[0m\u001b[0;34m)\u001b[0m\u001b[0;34m\u001b[0m\u001b[0;34m\u001b[0m\u001b[0m\n\u001b[0m\u001b[1;32m     15\u001b[0m \u001b[0;34m\u001b[0m\u001b[0m\n\u001b[1;32m     16\u001b[0m \u001b[0;34m\u001b[0m\u001b[0m\n",
            "\u001b[0;32m<ipython-input-27-085aeb0b823c>\u001b[0m in \u001b[0;36mtrain_schedule\u001b[0;34m(self)\u001b[0m\n\u001b[1;32m     17\u001b[0m   \u001b[0;32mdef\u001b[0m \u001b[0mtrain_schedule\u001b[0m\u001b[0;34m(\u001b[0m\u001b[0mself\u001b[0m\u001b[0;34m)\u001b[0m\u001b[0;34m:\u001b[0m\u001b[0;34m\u001b[0m\u001b[0;34m\u001b[0m\u001b[0m\n\u001b[1;32m     18\u001b[0m     \u001b[0mtrain_no\u001b[0m\u001b[0;34m=\u001b[0m\u001b[0minput\u001b[0m\u001b[0;34m(\u001b[0m\u001b[0;34m\"enter the train no\"\u001b[0m\u001b[0;34m)\u001b[0m\u001b[0;34m\u001b[0m\u001b[0;34m\u001b[0m\u001b[0m\n\u001b[0;32m---> 19\u001b[0;31m     \u001b[0mself\u001b[0m\u001b[0;34m.\u001b[0m\u001b[0mfetch_data\u001b[0m\u001b[0;34m(\u001b[0m\u001b[0mtrain_no\u001b[0m\u001b[0;34m)\u001b[0m\u001b[0;34m\u001b[0m\u001b[0;34m\u001b[0m\u001b[0m\n\u001b[0m\u001b[1;32m     20\u001b[0m \u001b[0;34m\u001b[0m\u001b[0m\n\u001b[1;32m     21\u001b[0m   \u001b[0;32mdef\u001b[0m \u001b[0mfetch_data\u001b[0m\u001b[0;34m(\u001b[0m\u001b[0mself\u001b[0m\u001b[0;34m,\u001b[0m\u001b[0mtrain_no\u001b[0m\u001b[0;34m)\u001b[0m\u001b[0;34m:\u001b[0m\u001b[0;34m\u001b[0m\u001b[0;34m\u001b[0m\u001b[0m\n",
            "\u001b[0;32m<ipython-input-27-085aeb0b823c>\u001b[0m in \u001b[0;36mfetch_data\u001b[0;34m(self, train_no)\u001b[0m\n\u001b[1;32m     20\u001b[0m \u001b[0;34m\u001b[0m\u001b[0m\n\u001b[1;32m     21\u001b[0m   \u001b[0;32mdef\u001b[0m \u001b[0mfetch_data\u001b[0m\u001b[0;34m(\u001b[0m\u001b[0mself\u001b[0m\u001b[0;34m,\u001b[0m\u001b[0mtrain_no\u001b[0m\u001b[0;34m)\u001b[0m\u001b[0;34m:\u001b[0m\u001b[0;34m\u001b[0m\u001b[0;34m\u001b[0m\u001b[0m\n\u001b[0;32m---> 22\u001b[0;31m     \u001b[0mdata\u001b[0m \u001b[0;34m=\u001b[0m \u001b[0mrequests\u001b[0m\u001b[0;34m.\u001b[0m\u001b[0mget\u001b[0m\u001b[0;34m(\u001b[0m\u001b[0;34m\"https://indianrailapil.com/api/v2/TrainSchedule/apikey /30c382602bfa67c8a7c580e6cfe2becb/TrainNumber/{}\"\u001b[0m\u001b[0;34m.\u001b[0m\u001b[0mformat\u001b[0m\u001b[0;34m(\u001b[0m\u001b[0mtrain_no\u001b[0m\u001b[0;34m)\u001b[0m\u001b[0;34m)\u001b[0m\u001b[0;34m\u001b[0m\u001b[0;34m\u001b[0m\u001b[0m\n\u001b[0m\u001b[1;32m     23\u001b[0m \u001b[0;34m\u001b[0m\u001b[0m\n\u001b[1;32m     24\u001b[0m     \u001b[0mdata\u001b[0m\u001b[0;34m=\u001b[0m\u001b[0mdata\u001b[0m\u001b[0;34m.\u001b[0m\u001b[0mjson\u001b[0m\u001b[0;34m(\u001b[0m\u001b[0;34m)\u001b[0m\u001b[0;34m\u001b[0m\u001b[0;34m\u001b[0m\u001b[0m\n",
            "\u001b[0;32m/usr/local/lib/python3.10/dist-packages/requests/api.py\u001b[0m in \u001b[0;36mget\u001b[0;34m(url, params, **kwargs)\u001b[0m\n\u001b[1;32m     71\u001b[0m     \"\"\"\n\u001b[1;32m     72\u001b[0m \u001b[0;34m\u001b[0m\u001b[0m\n\u001b[0;32m---> 73\u001b[0;31m     \u001b[0;32mreturn\u001b[0m \u001b[0mrequest\u001b[0m\u001b[0;34m(\u001b[0m\u001b[0;34m\"get\"\u001b[0m\u001b[0;34m,\u001b[0m \u001b[0murl\u001b[0m\u001b[0;34m,\u001b[0m \u001b[0mparams\u001b[0m\u001b[0;34m=\u001b[0m\u001b[0mparams\u001b[0m\u001b[0;34m,\u001b[0m \u001b[0;34m**\u001b[0m\u001b[0mkwargs\u001b[0m\u001b[0;34m)\u001b[0m\u001b[0;34m\u001b[0m\u001b[0;34m\u001b[0m\u001b[0m\n\u001b[0m\u001b[1;32m     74\u001b[0m \u001b[0;34m\u001b[0m\u001b[0m\n\u001b[1;32m     75\u001b[0m \u001b[0;34m\u001b[0m\u001b[0m\n",
            "\u001b[0;32m/usr/local/lib/python3.10/dist-packages/requests/api.py\u001b[0m in \u001b[0;36mrequest\u001b[0;34m(method, url, **kwargs)\u001b[0m\n\u001b[1;32m     57\u001b[0m     \u001b[0;31m# cases, and look like a memory leak in others.\u001b[0m\u001b[0;34m\u001b[0m\u001b[0;34m\u001b[0m\u001b[0m\n\u001b[1;32m     58\u001b[0m     \u001b[0;32mwith\u001b[0m \u001b[0msessions\u001b[0m\u001b[0;34m.\u001b[0m\u001b[0mSession\u001b[0m\u001b[0;34m(\u001b[0m\u001b[0;34m)\u001b[0m \u001b[0;32mas\u001b[0m \u001b[0msession\u001b[0m\u001b[0;34m:\u001b[0m\u001b[0;34m\u001b[0m\u001b[0;34m\u001b[0m\u001b[0m\n\u001b[0;32m---> 59\u001b[0;31m         \u001b[0;32mreturn\u001b[0m \u001b[0msession\u001b[0m\u001b[0;34m.\u001b[0m\u001b[0mrequest\u001b[0m\u001b[0;34m(\u001b[0m\u001b[0mmethod\u001b[0m\u001b[0;34m=\u001b[0m\u001b[0mmethod\u001b[0m\u001b[0;34m,\u001b[0m \u001b[0murl\u001b[0m\u001b[0;34m=\u001b[0m\u001b[0murl\u001b[0m\u001b[0;34m,\u001b[0m \u001b[0;34m**\u001b[0m\u001b[0mkwargs\u001b[0m\u001b[0;34m)\u001b[0m\u001b[0;34m\u001b[0m\u001b[0;34m\u001b[0m\u001b[0m\n\u001b[0m\u001b[1;32m     60\u001b[0m \u001b[0;34m\u001b[0m\u001b[0m\n\u001b[1;32m     61\u001b[0m \u001b[0;34m\u001b[0m\u001b[0m\n",
            "\u001b[0;32m/usr/local/lib/python3.10/dist-packages/requests/sessions.py\u001b[0m in \u001b[0;36mrequest\u001b[0;34m(self, method, url, params, data, headers, cookies, files, auth, timeout, allow_redirects, proxies, hooks, stream, verify, cert, json)\u001b[0m\n\u001b[1;32m    587\u001b[0m         }\n\u001b[1;32m    588\u001b[0m         \u001b[0msend_kwargs\u001b[0m\u001b[0;34m.\u001b[0m\u001b[0mupdate\u001b[0m\u001b[0;34m(\u001b[0m\u001b[0msettings\u001b[0m\u001b[0;34m)\u001b[0m\u001b[0;34m\u001b[0m\u001b[0;34m\u001b[0m\u001b[0m\n\u001b[0;32m--> 589\u001b[0;31m         \u001b[0mresp\u001b[0m \u001b[0;34m=\u001b[0m \u001b[0mself\u001b[0m\u001b[0;34m.\u001b[0m\u001b[0msend\u001b[0m\u001b[0;34m(\u001b[0m\u001b[0mprep\u001b[0m\u001b[0;34m,\u001b[0m \u001b[0;34m**\u001b[0m\u001b[0msend_kwargs\u001b[0m\u001b[0;34m)\u001b[0m\u001b[0;34m\u001b[0m\u001b[0;34m\u001b[0m\u001b[0m\n\u001b[0m\u001b[1;32m    590\u001b[0m \u001b[0;34m\u001b[0m\u001b[0m\n\u001b[1;32m    591\u001b[0m         \u001b[0;32mreturn\u001b[0m \u001b[0mresp\u001b[0m\u001b[0;34m\u001b[0m\u001b[0;34m\u001b[0m\u001b[0m\n",
            "\u001b[0;32m/usr/local/lib/python3.10/dist-packages/requests/sessions.py\u001b[0m in \u001b[0;36msend\u001b[0;34m(self, request, **kwargs)\u001b[0m\n\u001b[1;32m    701\u001b[0m \u001b[0;34m\u001b[0m\u001b[0m\n\u001b[1;32m    702\u001b[0m         \u001b[0;31m# Send the request\u001b[0m\u001b[0;34m\u001b[0m\u001b[0;34m\u001b[0m\u001b[0m\n\u001b[0;32m--> 703\u001b[0;31m         \u001b[0mr\u001b[0m \u001b[0;34m=\u001b[0m \u001b[0madapter\u001b[0m\u001b[0;34m.\u001b[0m\u001b[0msend\u001b[0m\u001b[0;34m(\u001b[0m\u001b[0mrequest\u001b[0m\u001b[0;34m,\u001b[0m \u001b[0;34m**\u001b[0m\u001b[0mkwargs\u001b[0m\u001b[0;34m)\u001b[0m\u001b[0;34m\u001b[0m\u001b[0;34m\u001b[0m\u001b[0m\n\u001b[0m\u001b[1;32m    704\u001b[0m \u001b[0;34m\u001b[0m\u001b[0m\n\u001b[1;32m    705\u001b[0m         \u001b[0;31m# Total elapsed time of the request (approximately)\u001b[0m\u001b[0;34m\u001b[0m\u001b[0;34m\u001b[0m\u001b[0m\n",
            "\u001b[0;32m/usr/local/lib/python3.10/dist-packages/requests/adapters.py\u001b[0m in \u001b[0;36msend\u001b[0;34m(self, request, stream, timeout, verify, cert, proxies)\u001b[0m\n\u001b[1;32m    517\u001b[0m                 \u001b[0;32mraise\u001b[0m \u001b[0mSSLError\u001b[0m\u001b[0;34m(\u001b[0m\u001b[0me\u001b[0m\u001b[0;34m,\u001b[0m \u001b[0mrequest\u001b[0m\u001b[0;34m=\u001b[0m\u001b[0mrequest\u001b[0m\u001b[0;34m)\u001b[0m\u001b[0;34m\u001b[0m\u001b[0;34m\u001b[0m\u001b[0m\n\u001b[1;32m    518\u001b[0m \u001b[0;34m\u001b[0m\u001b[0m\n\u001b[0;32m--> 519\u001b[0;31m             \u001b[0;32mraise\u001b[0m \u001b[0mConnectionError\u001b[0m\u001b[0;34m(\u001b[0m\u001b[0me\u001b[0m\u001b[0;34m,\u001b[0m \u001b[0mrequest\u001b[0m\u001b[0;34m=\u001b[0m\u001b[0mrequest\u001b[0m\u001b[0;34m)\u001b[0m\u001b[0;34m\u001b[0m\u001b[0;34m\u001b[0m\u001b[0m\n\u001b[0m\u001b[1;32m    520\u001b[0m \u001b[0;34m\u001b[0m\u001b[0m\n\u001b[1;32m    521\u001b[0m         \u001b[0;32mexcept\u001b[0m \u001b[0mClosedPoolError\u001b[0m \u001b[0;32mas\u001b[0m \u001b[0me\u001b[0m\u001b[0;34m:\u001b[0m\u001b[0;34m\u001b[0m\u001b[0;34m\u001b[0m\u001b[0m\n",
            "\u001b[0;31mConnectionError\u001b[0m: HTTPSConnectionPool(host='indianrailapil.com', port=443): Max retries exceeded with url: /api/v2/TrainSchedule/apikey%20/30c382602bfa67c8a7c580e6cfe2becb/TrainNumber/12222 (Caused by NameResolutionError(\"<urllib3.connection.HTTPSConnection object at 0x7e1ad7c527a0>: Failed to resolve 'indianrailapil.com' ([Errno -2] Name or service not known)\"))"
          ]
        }
      ]
    },
    {
      "cell_type": "code",
      "source": [
        "#iterator--keep only one thing in one opertion then load another to save time and memory\n",
        "'''\n",
        "#1\n",
        "l=[x for  x in range(1,1000)]\n",
        "for i in l:\n",
        "  print(i*2)\n",
        "\n",
        "import sys\n",
        "sys.getsizeof(l)/1024\n",
        "\n",
        "#2\n",
        "x=range(1,1000)\n",
        "\n",
        "for i in x:\n",
        "  print(i**2)\n",
        "\n",
        "import sys\n",
        "sys.getsizeof(x)/1024\n",
        "\n",
        "#iterable is an object which one can iterate over\n",
        "l=[1,2,3]\n",
        "print(type(l))\n",
        "print(type(iter(l)))'''\n",
        "\n",
        "#every iterator is also an iterable\n",
        "#not all iterables are iterator\n",
        "#to check whether an object is an iterable or not?\n",
        "'''a=2\n",
        "for i in a:\n",
        "  print(a)\n",
        "dir(a)'''\n",
        "\n",
        "t=(12,2,3)\n",
        "print(dir(t))\n",
        "\n",
        "s={1,2,3}\n",
        "print(dir(s))\n",
        "\n",
        "d={1:2,3:4}\n",
        "print(dir(d))\n",
        "\n",
        "#lets understand iterator through for loop\n",
        "num=[1,2,3]\n",
        "# here i is an iterator\n",
        "#it fetches the iteratorr through iter() fxn\n",
        "# upon fetching iterator it calls next() function which shows the status of item on which we are iterating\n",
        "for i in num:\n",
        "  print(i)\n",
        "\n",
        "\n",
        "\n"
      ],
      "metadata": {
        "id": "aXkF3PivW1yU",
        "outputId": "30edc703-f9cb-410f-87a3-28b4dd93cfa5",
        "colab": {
          "base_uri": "https://localhost:8080/"
        }
      },
      "execution_count": null,
      "outputs": [
        {
          "output_type": "stream",
          "name": "stdout",
          "text": [
            "['__add__', '__class__', '__class_getitem__', '__contains__', '__delattr__', '__dir__', '__doc__', '__eq__', '__format__', '__ge__', '__getattribute__', '__getitem__', '__getnewargs__', '__gt__', '__hash__', '__init__', '__init_subclass__', '__iter__', '__le__', '__len__', '__lt__', '__mul__', '__ne__', '__new__', '__reduce__', '__reduce_ex__', '__repr__', '__rmul__', '__setattr__', '__sizeof__', '__str__', '__subclasshook__', 'count', 'index']\n",
            "['__and__', '__class__', '__class_getitem__', '__contains__', '__delattr__', '__dir__', '__doc__', '__eq__', '__format__', '__ge__', '__getattribute__', '__gt__', '__hash__', '__iand__', '__init__', '__init_subclass__', '__ior__', '__isub__', '__iter__', '__ixor__', '__le__', '__len__', '__lt__', '__ne__', '__new__', '__or__', '__rand__', '__reduce__', '__reduce_ex__', '__repr__', '__ror__', '__rsub__', '__rxor__', '__setattr__', '__sizeof__', '__str__', '__sub__', '__subclasshook__', '__xor__', 'add', 'clear', 'copy', 'difference', 'difference_update', 'discard', 'intersection', 'intersection_update', 'isdisjoint', 'issubset', 'issuperset', 'pop', 'remove', 'symmetric_difference', 'symmetric_difference_update', 'union', 'update']\n",
            "['__class__', '__class_getitem__', '__contains__', '__delattr__', '__delitem__', '__dir__', '__doc__', '__eq__', '__format__', '__ge__', '__getattribute__', '__getitem__', '__gt__', '__hash__', '__init__', '__init_subclass__', '__ior__', '__iter__', '__le__', '__len__', '__lt__', '__ne__', '__new__', '__or__', '__reduce__', '__reduce_ex__', '__repr__', '__reversed__', '__ror__', '__setattr__', '__setitem__', '__sizeof__', '__str__', '__subclasshook__', 'clear', 'copy', 'fromkeys', 'get', 'items', 'keys', 'pop', 'popitem', 'setdefault', 'update', 'values']\n"
          ]
        }
      ]
    },
    {
      "cell_type": "code",
      "source": [
        "#behind the hood in for loop\n",
        "num=[1,2,3]\n",
        "i=iter(num)\n",
        "print(next(i))\n",
        "print(next(i))\n",
        "print(next(i))"
      ],
      "metadata": {
        "id": "9x6-Lu1Jfk9l",
        "outputId": "2cbc407c-69ca-4d06-9c72-d45b1d2c668a",
        "colab": {
          "base_uri": "https://localhost:8080/"
        }
      },
      "execution_count": null,
      "outputs": [
        {
          "output_type": "stream",
          "name": "stdout",
          "text": [
            "1\n",
            "2\n",
            "3\n"
          ]
        }
      ]
    },
    {
      "cell_type": "code",
      "source": [
        "#our own for loop\n",
        "def xyz(iterable):\n",
        "  iterator=iter(iterable)\n",
        "while True:\n",
        "  try:\n",
        "    print(next(iterator))\n",
        "  except StopIteration:\n",
        "    break\n",
        "\n",
        "\n",
        "a=[1,2,3]\n",
        "b=range(1,10)\n",
        "c=(1,3,4)\n",
        "d={1,2,3}\n",
        "e={0:1,1:1}\n",
        "xyz(a)"
      ],
      "metadata": {
        "id": "c8yWrMTigBce",
        "outputId": "5a96b8fa-bf86-47a4-8dd6-9ed49c50470f",
        "colab": {
          "base_uri": "https://localhost:8080/",
          "height": 211
        }
      },
      "execution_count": null,
      "outputs": [
        {
          "output_type": "error",
          "ename": "NameError",
          "evalue": "name 'iterator' is not defined",
          "traceback": [
            "\u001b[0;31m---------------------------------------------------------------------------\u001b[0m",
            "\u001b[0;31mNameError\u001b[0m                                 Traceback (most recent call last)",
            "\u001b[0;32m<ipython-input-47-6cc03b6f51e0>\u001b[0m in \u001b[0;36m<cell line: 4>\u001b[0;34m()\u001b[0m\n\u001b[1;32m      4\u001b[0m \u001b[0;32mwhile\u001b[0m \u001b[0;32mTrue\u001b[0m\u001b[0;34m:\u001b[0m\u001b[0;34m\u001b[0m\u001b[0;34m\u001b[0m\u001b[0m\n\u001b[1;32m      5\u001b[0m   \u001b[0;32mtry\u001b[0m\u001b[0;34m:\u001b[0m\u001b[0;34m\u001b[0m\u001b[0;34m\u001b[0m\u001b[0m\n\u001b[0;32m----> 6\u001b[0;31m     \u001b[0mprint\u001b[0m\u001b[0;34m(\u001b[0m\u001b[0mnext\u001b[0m\u001b[0;34m(\u001b[0m\u001b[0miterator\u001b[0m\u001b[0;34m)\u001b[0m\u001b[0;34m)\u001b[0m\u001b[0;34m\u001b[0m\u001b[0;34m\u001b[0m\u001b[0m\n\u001b[0m\u001b[1;32m      7\u001b[0m   \u001b[0;32mexcept\u001b[0m \u001b[0mStopIteration\u001b[0m\u001b[0;34m:\u001b[0m\u001b[0;34m\u001b[0m\u001b[0;34m\u001b[0m\u001b[0m\n\u001b[1;32m      8\u001b[0m     \u001b[0;32mbreak\u001b[0m\u001b[0;34m\u001b[0m\u001b[0;34m\u001b[0m\u001b[0m\n",
            "\u001b[0;31mNameError\u001b[0m: name 'iterator' is not defined"
          ]
        }
      ]
    },
    {
      "cell_type": "code",
      "source": [
        "num=[1,2,3]\n",
        "x=iter(num)\n",
        "print(dir(x))\n",
        "print(id(x))\n",
        "iter(x)#iter over iterator object i.e x\n",
        "\n",
        "y=iter(x)\n",
        "print(id(y))\n",
        "#both x and y have same address\n",
        "#so,iter on iterator is iterator itself"
      ],
      "metadata": {
        "id": "n6OhhqqpgcMF",
        "outputId": "48d9576f-ef08-4e0e-88e0-fa7191f93602",
        "colab": {
          "base_uri": "https://localhost:8080/"
        }
      },
      "execution_count": null,
      "outputs": [
        {
          "output_type": "stream",
          "name": "stdout",
          "text": [
            "['__class__', '__delattr__', '__dir__', '__doc__', '__eq__', '__format__', '__ge__', '__getattribute__', '__gt__', '__hash__', '__init__', '__init_subclass__', '__iter__', '__le__', '__length_hint__', '__lt__', '__ne__', '__new__', '__next__', '__reduce__', '__reduce_ex__', '__repr__', '__setattr__', '__setstate__', '__sizeof__', '__str__', '__subclasshook__']\n",
            "138653756040832\n",
            "138653756040832\n"
          ]
        }
      ]
    },
    {
      "cell_type": "code",
      "source": [
        "#iter over iterator object is used when we are creating an object and we wanna put itereration feature to run loop on object\n"
      ],
      "metadata": {
        "id": "Oi7bGWp7ip3y"
      },
      "execution_count": null,
      "outputs": []
    },
    {
      "cell_type": "code",
      "source": [
        "#iterable class--confusion time stamp 33:23 campusX\n",
        "class mera_range:\n",
        "  def __init(self,start,end):#object of mera_range class\n",
        "    self.start=start\n",
        "    self.end=end\n",
        "  def __iter__(self):\n",
        "    return mera_range_iterator()\n",
        "\n",
        "class mera_range_iterator:\n",
        "  def __init__(self,):\n",
        "    pass\n",
        "  def __iter__(self):\n",
        "    pass\n",
        "  def __next__(self):\n",
        "    pass\n",
        "\n",
        "#application:it's a technique by using which one can load stream of data and can perform any opertion without loading the entire data in the memory.in deep learing image data set work is going on, you have to convert data set to numpy array then perform operation then how you gonna load entire data set into RAM."
      ],
      "metadata": {
        "id": "vsQIWU6LjHeA"
      },
      "execution_count": null,
      "outputs": []
    },
    {
      "cell_type": "code",
      "source": [
        "#oop(incomplete)\n",
        "class test:\n",
        " x=5\n",
        " y=6\n",
        "def f1():\n",
        "  print(\"hello\")\n",
        "t1=test()#create an instance obj\n",
        "t1.x=6\n",
        "t1.y=9\n",
        "print(t1.x)\n",
        "print(t1.y)"
      ],
      "metadata": {
        "colab": {
          "base_uri": "https://localhost:8080/"
        },
        "id": "4fKQsoJUUYkr",
        "outputId": "6cce79b2-23e5-41ba-f148-6f279938cf77"
      },
      "execution_count": null,
      "outputs": [
        {
          "output_type": "stream",
          "name": "stdout",
          "text": [
            "6\n",
            "9\n"
          ]
        }
      ]
    },
    {
      "cell_type": "code",
      "source": [
        "class Parrot:\n",
        "\n",
        "    # class attribute\n",
        "    name = \"\"\n",
        "    age = 0\n",
        "\n",
        "# create parrot1 object\n",
        "parrot1 = Parrot()\n",
        "parrot1.name = \"Blu\"\n",
        "parrot1.age = 10\n",
        "\n",
        "# create another object parrot2\n",
        "parrot2 = Parrot()\n",
        "parrot2.name = \"Woo\"\n",
        "parrot2.age = 15\n",
        "\n",
        "# access attributes\n",
        "#Placing the letter f before the opening quotation mark of a string signals to Python that it's a formatted string literal. This enables you to embed expressions directly within the string using curly braces {}\n",
        "print(f\"{parrot1.name} is {parrot1.age} years old\")\n",
        "print(f\"{parrot2.name} is {parrot2.age} years old\")"
      ],
      "metadata": {
        "colab": {
          "base_uri": "https://localhost:8080/"
        },
        "id": "0Q63Y1A3ISAS",
        "outputId": "30423063-9d26-4f60-86fa-8ea9da19df21"
      },
      "execution_count": null,
      "outputs": [
        {
          "output_type": "stream",
          "name": "stdout",
          "text": [
            "Blu is 10 years old\n",
            "Woo is 15 years old\n"
          ]
        }
      ]
    },
    {
      "cell_type": "code",
      "source": [
        "# Initialize the cart and guest list\n",
        "cart = []\n",
        "guest_list = [\"John\", \"Mary\", \"Bob\"]\n",
        "\n",
        "# Add items to the cart\n",
        "cart.append(\"Apple\")\n",
        "cart.append(\"Banana\")\n",
        "cart.insert(0, \"Orange\")\n",
        "\n",
        "# Remove items from the cart\n",
        "cart.remove(\"Banana\")\n",
        "del cart[0]\n",
        "cart.pop()\n",
        "\n",
        "# Define the prices of items\n",
        "prices = {1.25:\"Apple\",0.75: \"Banana\" , 0.99:\"Orange\" }\n",
        "\n",
        "# Calculate the total cost of items\n",
        "total_cost = 0\n",
        "for item in cart:\n",
        "    total_cost += prices[item]\n",
        "\n",
        "# Print the total cost and the updated cart\n",
        "print(f\"Total cost: ${total_cost:.2f}\")#formattting\n",
        "print(f\"Cart: {cart}\")\n",
        "\n",
        "# Check if a specific guest is on the list\n",
        "if \"Alice\" in guest_list:\n",
        "    print(\"Alice is on the guest list.\")\n",
        "else:\n",
        "    print(\"Alice is not on the guest list.\")\n",
        "\n",
        "# Find the index of a specific guest\n",
        "index = guest_list.index(\"Bob\")\n",
        "print(f\"Bob is at index {index}.\")"
      ],
      "metadata": {
        "colab": {
          "base_uri": "https://localhost:8080/"
        },
        "id": "7k-8YvPRJzWk",
        "outputId": "95c6411a-7d09-492c-e6df-e8670ad14d61"
      },
      "execution_count": null,
      "outputs": [
        {
          "output_type": "stream",
          "name": "stdout",
          "text": [
            "Total cost: $0.00\n",
            "Cart: []\n",
            "Alice is not on the guest list.\n",
            "Bob is at index 2.\n"
          ]
        }
      ]
    },
    {
      "cell_type": "code",
      "source": [
        "#oop\n",
        "class dog:\n",
        "  def __init__(self,name):\n",
        "    self.name=name\n",
        "  def bark9self\n",
        "    print9zoof"
      ],
      "metadata": {
        "id": "5juQzeQdJntm"
      },
      "execution_count": null,
      "outputs": []
    },
    {
      "cell_type": "code",
      "source": [
        "'''#class and object\n",
        "class myclass:\n",
        "  x=5;\n",
        "print(myclass)\n",
        "class my:\n",
        "  x=5\n",
        "obj=my()\n",
        "print(obj.x)'''\n",
        "'''#the __init__()--this fxn gets executed when a class is called and var and property is defined under this\n",
        "class person:\n",
        "  def __init__(self,name,age):\n",
        "    self.name=name\n",
        "    self.age=age\n",
        "obj1=person(\"saurabh\",22)\n",
        "print(obj1.name)\n",
        "print(obj1.age)'''\n",
        "\n",
        "\n",
        "'''#obj method are the method used by fxn which belongs to obj\n",
        "class person:\n",
        "  def __init__(self,name,age):\n",
        "    self.name=name\n",
        "    self.age=age\n",
        "  def xyz(self):\n",
        "   print(\"My name is \"+self.name,+self.age)\n",
        "\n",
        "obj1=person(\"saurabh\",22)\n",
        "obj1.xyz()\n",
        "'''\n",
        "\n",
        "'''#the self parameter\n",
        "class person:\n",
        "  def __init__(papa,name,age):\n",
        "    papa.name=name\n",
        "    papa.age=age\n",
        "  def xyz(papa):\n",
        "   print(\"My name is \"+papa.name,+papa.age)\n",
        "\n",
        "obj1=person(\"saurabh\",22)\n",
        "obj1.xyz()'''\n",
        "\n",
        "'''#modifying obj properties\n",
        "class person:\n",
        "  def __init__(papa,name,age):\n",
        "    papa.name=name\n",
        "    papa.age=age\n",
        "  def xyz(papa):\n",
        "   print(\"My name is \"+papa.name,+papa.age)\n",
        "\n",
        "obj1=person(\"saurabh\",22)\n",
        "obj1.age=36\n",
        "print(obj1.age)\n",
        "'''\n",
        "\n",
        "'''#delete obj properties\n",
        "\n",
        "class person:\n",
        "  def __init__(papa,name,age):\n",
        "    papa.name=name\n",
        "    papa.age=age\n",
        "  def xyz(papa):\n",
        "   print(\"My name is \"+papa.name,+papa.age)\n",
        "\n",
        "obj1=person(\"saurabh\",22)\n",
        "del obj1.age\n",
        "\n",
        "print(obj1.age)#attribute dlted so wont print\n",
        "'''\n",
        "'''#to delete object only\n",
        "class person:\n",
        "  def __init__(papa,name,age):\n",
        "    papa.name=name\n",
        "    papa.age=age\n",
        "  def xyz(papa):\n",
        "   print(\"My name is \"+papa.name,+papa.age)\n",
        "\n",
        "obj1=person(\"saurabh\",22)\n",
        "del obj1'''\n",
        "\n",
        "\n",
        "#the pass statement\n",
        "class person:\n",
        "  pass\n",
        "\n"
      ],
      "metadata": {
        "id": "1oS13DMOiDVB",
        "colab": {
          "base_uri": "https://localhost:8080/",
          "height": 211
        },
        "outputId": "d01386f1-031a-4bdc-9c07-328b7fcf5d6d"
      },
      "execution_count": null,
      "outputs": [
        {
          "output_type": "error",
          "ename": "NameError",
          "evalue": "name 'obj1' is not defined",
          "traceback": [
            "\u001b[0;31m---------------------------------------------------------------------------\u001b[0m",
            "\u001b[0;31mNameError\u001b[0m                                 Traceback (most recent call last)",
            "\u001b[0;32m<ipython-input-19-82bdbb3e4339>\u001b[0m in \u001b[0;36m<cell line: 67>\u001b[0;34m()\u001b[0m\n\u001b[1;32m     65\u001b[0m \u001b[0;32mdel\u001b[0m \u001b[0mobj1\u001b[0m\u001b[0;34m.\u001b[0m\u001b[0mage\u001b[0m\u001b[0;34m\u001b[0m\u001b[0;34m\u001b[0m\u001b[0m\n\u001b[1;32m     66\u001b[0m \u001b[0;32mdel\u001b[0m \u001b[0mobj1\u001b[0m \u001b[0;31m# to delete object only\u001b[0m\u001b[0;34m\u001b[0m\u001b[0;34m\u001b[0m\u001b[0m\n\u001b[0;32m---> 67\u001b[0;31m \u001b[0mprint\u001b[0m\u001b[0;34m(\u001b[0m\u001b[0mobj1\u001b[0m\u001b[0;34m.\u001b[0m\u001b[0mage\u001b[0m\u001b[0;34m)\u001b[0m\u001b[0;31m#attribute dlted so wont print\u001b[0m\u001b[0;34m\u001b[0m\u001b[0;34m\u001b[0m\u001b[0m\n\u001b[0m\u001b[1;32m     68\u001b[0m \u001b[0;34m\u001b[0m\u001b[0m\n\u001b[1;32m     69\u001b[0m \u001b[0;34m\u001b[0m\u001b[0m\n",
            "\u001b[0;31mNameError\u001b[0m: name 'obj1' is not defined"
          ]
        }
      ]
    },
    {
      "cell_type": "code",
      "source": [
        "#inheeritance\n",
        "'''#creating parent class\n",
        "class A:\n",
        "  def __init__(self,x,y):\n",
        "    self.firstname=x\n",
        "    self.secondname=y\n",
        "  def output(self):\n",
        "    print(self.firstname,self.secondname)\n",
        "x=A(\"saurabh\",\"kumar\")\n",
        "x.output()'''\n",
        "\n",
        "\n",
        "'''#creating a child class\n",
        "class A:\n",
        "  def __init__(self,x,y):\n",
        "    self.firstname=x\n",
        "    self.secondname=y\n",
        "  def output(self):\n",
        "    print(self.firstname,self.secondname)\n",
        "class student(A):\n",
        "  pass\n",
        "x=student(\"Saurabh\",\"Kumar\")\n",
        "x.output()'''\n",
        "\n",
        "#without pass keyword\n",
        "'''class A:\n",
        "  def __init__(self,x,y):\n",
        "    self.firstname=x\n",
        "    self.secondname=y\n",
        "  def output(self):\n",
        "    print(self.firstname,self.secondname)\n",
        "class student(A):\n",
        "  def __init__(self, x, y):\n",
        "    A.__init__(self,x, y)\n",
        "x=student(\"Saurabh\",\"Kumar\")\n",
        "x.output()'''\n",
        "\n",
        "'''#using super key\n",
        "class A:\n",
        "  def __init__(self,x,y):\n",
        "    self.firstname=x\n",
        "    self.secondname=y\n",
        "  def output(self):\n",
        "    print(self.firstname,self.secondname)\n",
        "class student(A):\n",
        "  def __init__(self, x, y):\n",
        "    super().__init__(x, y)\n",
        "x=student(\"Saurabh\",\"Kumar\")\n",
        "x.output()'''\n",
        "#add property\n",
        "'''class A:\n",
        "  def __init__(self,x,y):\n",
        "    self.firstname=x\n",
        "    self.secondname=y\n",
        "  def output(self):\n",
        "    print(self.firstname,self.secondname)\n",
        "class student(A):\n",
        "  def __init__(self, x, y):\n",
        "    super().__init__(x, y)\n",
        "    self.sex=\"male\"\n",
        "x=student(\"Saurabh\",\"Kumar\")\n",
        "x.output()\n",
        "print(x.sex)'''\n",
        "\n",
        "#you can pass obj property from child class\n",
        "class A:\n",
        "  def __init__(self,x,y):\n",
        "    self.firstname=x\n",
        "    self.secondname=y\n",
        "  def output(self):\n",
        "    print(self.firstname,self.secondname)\n",
        "class student(A):\n",
        "  def __init__(self, x, y,sex):\n",
        "    super().__init__(x, y)\n",
        "    self.sex=\"male\"\n",
        "x=student(\"Saurabh\",\"Kumar\",\"male\")\n",
        "\n",
        "print(x.sex)\n",
        "\n",
        "\n",
        "\n"
      ],
      "metadata": {
        "colab": {
          "base_uri": "https://localhost:8080/"
        },
        "id": "Gs2QD_sHEx7J",
        "outputId": "be4e7aa8-b2a1-4aad-9bd1-a6bb3f03997d"
      },
      "execution_count": null,
      "outputs": [
        {
          "output_type": "stream",
          "name": "stdout",
          "text": [
            "male\n"
          ]
        }
      ]
    },
    {
      "cell_type": "code",
      "source": [
        "#iterator\n",
        "''' an iterator is an fxn that implements iterator protocol,which consists of two methods : __iter__() and __next__();\n",
        "list, set, dict, tuple are iterators\n",
        "\n",
        "\n",
        "'''\n",
        "'''a=(\"a\",\"b\",\"c\")\n",
        "i=iter(a)\n",
        "print(next(i))\n",
        "print(next(i))\n",
        "print(next(i))\n",
        "print(next(i))'''\n",
        "\n",
        "'''a=\"ABCDEF\"\n",
        "i=iter(a)\n",
        "print(next(i))\n",
        "print(next(i))\n",
        "print(next(i))\n",
        "print(next(i))\n",
        "print(next(i))\n",
        "print(next(i))\n",
        "print(next(i))'''\n",
        "\n",
        "#basic working of for loop in py\n",
        "'''class A:\n",
        "  def __iter__(k):\n",
        "    k.a=1\n",
        "    return k\n",
        "\n",
        "  def __next__(k):\n",
        "    x=k.a\n",
        "    k.a+=1\n",
        "    return x\n",
        "\n",
        "kkk=A()\n",
        "nnn=iter(kkk)\n",
        "print(next(nnn))\n",
        "print(next(nnn))\n",
        "print(next(nnn))'''\n",
        "\n",
        "#stop-iteration\n",
        "class A:\n",
        "    def __iter__(self):\n",
        "        self.a = 1\n",
        "        return self\n",
        "\n",
        "    def __next__(self):\n",
        "        if self.a <= 20:\n",
        "            result = self.a\n",
        "            self.a += 1\n",
        "            return result\n",
        "        else:\n",
        "            raise StopIteration\n",
        "\n",
        "kkk = A()\n",
        "nnn = iter(kkk)\n",
        "for i in nnn:\n",
        "    print(i)\n",
        "\n"
      ],
      "metadata": {
        "colab": {
          "base_uri": "https://localhost:8080/"
        },
        "id": "fROgqegbZ04m",
        "outputId": "6faff25c-6c5a-4eb3-e257-c5f66b61a63e"
      },
      "execution_count": null,
      "outputs": [
        {
          "output_type": "stream",
          "name": "stdout",
          "text": [
            "1\n",
            "2\n",
            "3\n",
            "4\n",
            "5\n",
            "6\n",
            "7\n",
            "8\n",
            "9\n",
            "10\n",
            "11\n",
            "12\n",
            "13\n",
            "14\n",
            "15\n",
            "16\n",
            "17\n",
            "18\n",
            "19\n",
            "20\n"
          ]
        }
      ]
    },
    {
      "cell_type": "code",
      "source": [
        "#modules\n",
        "import module\n",
        "module.greeting(\"saurabh\")"
      ],
      "metadata": {
        "colab": {
          "base_uri": "https://localhost:8080/",
          "height": 245
        },
        "id": "bBx0n0QmGRvt",
        "outputId": "127b889a-8075-4353-f8fa-02a1da5738fd"
      },
      "execution_count": null,
      "outputs": [
        {
          "output_type": "error",
          "ename": "SyntaxError",
          "evalue": "invalid syntax (module.py, line 1)",
          "traceback": [
            "Traceback \u001b[0;36m(most recent call last)\u001b[0m:\n",
            "  File \u001b[1;32m\"/usr/local/lib/python3.10/dist-packages/IPython/core/interactiveshell.py\"\u001b[0m, line \u001b[1;32m3553\u001b[0m, in \u001b[1;35mrun_code\u001b[0m\n    exec(code_obj, self.user_global_ns, self.user_ns)\n",
            "\u001b[0;36m  File \u001b[0;32m\"<ipython-input-9-3c06fcb14bb6>\"\u001b[0;36m, line \u001b[0;32m1\u001b[0;36m, in \u001b[0;35m<cell line: 1>\u001b[0;36m\u001b[0m\n\u001b[0;31m    import module\u001b[0m\n",
            "\u001b[0;36m  File \u001b[0;32m\"/content/module.py\"\u001b[0;36m, line \u001b[0;32m1\u001b[0m\n\u001b[0;31m    def greeting:\u001b[0m\n\u001b[0m                ^\u001b[0m\n\u001b[0;31mSyntaxError\u001b[0m\u001b[0;31m:\u001b[0m invalid syntax\n"
          ]
        }
      ]
    },
    {
      "cell_type": "code",
      "source": [
        "#date module\n",
        "import datetime\n",
        "x=datetime.datetime.now()\n",
        "print(x)\n",
        "import datetime\n",
        "x=datetime.datetime.now()\n",
        "print(x.year)\n",
        "print(x.day)\n",
        "print(x.second)\n",
        "\n",
        "print(x.strftime(\"%A\"))\n",
        "print(x.strftime(\"%B\"))\n",
        "print(x.strftime(\"%C\"))\n"
      ],
      "metadata": {
        "colab": {
          "base_uri": "https://localhost:8080/"
        },
        "id": "muHkJHdvLgiN",
        "outputId": "e56696a5-a8cf-4096-f3db-8f431799965c"
      },
      "execution_count": null,
      "outputs": [
        {
          "output_type": "stream",
          "name": "stdout",
          "text": [
            "2024-03-06 05:32:40.327789\n",
            "2024\n",
            "6\n",
            "40\n",
            "Wednesday\n",
            "March\n",
            "20\n"
          ]
        }
      ]
    },
    {
      "cell_type": "code",
      "source": [
        "#creating date using date function\n",
        "import datetime\n",
        "x=datetime.datetime(2024,3,5)\n",
        "print(x)\n",
        "'''\n",
        "%a\tSun\tWeekday as locale’s abbreviated name.\n",
        "%A\tSunday\tWeekday as locale’s full name.\n",
        "%w\t0\tWeekday as a decimal number, where 0 is Sunday and 6 is Saturday.\n",
        "%d\t08\tDay of the month as a zero-padded decimal number.\n",
        "%-d\t8\tDay of the month as a decimal number. (Platform specific)\n",
        "%b\tSep\tMonth as locale’s abbreviated name.\n",
        "%B\tSeptember\tMonth as locale’s full name.\n",
        "%m\t09\tMonth as a zero-padded decimal number.\n",
        "%-m\t9\tMonth as a decimal number. (Platform specific)\n",
        "%y\t13\tYear without century as a zero-padded decimal number.\n",
        "%Y\t2013\tYear with century as a decimal number.\n",
        "%H\t07\tHour (24-hour clock) as a zero-padded decimal number.\n",
        "%-H\t7\tHour (24-hour clock) as a decimal number. (Platform specific)\n",
        "%I\t07\tHour (12-hour clock) as a zero-padded decimal number.\n",
        "%-I\t7\tHour (12-hour clock) as a decimal number. (Platform specific)\n",
        "%p\tAM\tLocale’s equivalent of either AM or PM.\n",
        "%M\t06\tMinute as a zero-padded decimal number.\n",
        "%-M\t6\tMinute as a decimal number. (Platform specific)\n",
        "%S\t05\tSecond as a zero-padded decimal number.\n",
        "%-S\t5\tSecond as a decimal number. (Platform specific)\n",
        "%f\t000000\tMicrosecond as a decimal number, zero-padded to 6 digits.\n",
        "%z\t+0000\tUTC offset in the form ±HHMM[SS[.ffffff]] (empty string if the object is naive).\n",
        "%Z\tUTC\tTime zone name (empty string if the object is naive).\n",
        "%j\t251\tDay of the year as a zero-padded decimal number.\n",
        "%-j\t251\tDay of the year as a decimal number. (Platform specific)\n",
        "%U\t36\tWeek number of the year (Sunday as the first day of the week) as a zero-padded decimal number. All days in a new year preceding the first Sunday are considered to be in week 0.\n",
        "%-U\t36\tWeek number of the year (Sunday as the first day of the week) as a decimal number. All days in a new year preceding the first Sunday are considered to be in week 0. (Platform specific)\n",
        "%W\t35\tWeek number of the year (Monday as the first day of the week) as a zero-padded decimal number. All days in a new year preceding the first Monday are considered to be in week 0.\n",
        "%-W\t35\tWeek number of the year (Monday as the first day of the week) as a decimal number. All days in a new year preceding the first Monday are considered to be in week 0. (Platform specific)\n",
        "%c\tSun Sep 8 07:06:05 2013\tLocale’s appropriate date and time representation.\n",
        "%x\t09/08/13\tLocale’s appropriate date representation.\n",
        "%X\t07:06:05\tLocale’s appropriate time representation.\n",
        "%%\t%\tA literal '%' character.\n",
        "'''"
      ],
      "metadata": {
        "colab": {
          "base_uri": "https://localhost:8080/",
          "height": 140
        },
        "id": "RRQjCdsDNmfN",
        "outputId": "f522757a-2022-4b41-9e3d-aaf9ba8d4f16"
      },
      "execution_count": null,
      "outputs": [
        {
          "output_type": "stream",
          "name": "stdout",
          "text": [
            "2024-03-05 00:00:00\n"
          ]
        },
        {
          "output_type": "execute_result",
          "data": {
            "text/plain": [
              "\"\\n%a\\tSun\\tWeekday as locale’s abbreviated name.\\n%A\\tSunday\\tWeekday as locale’s full name.\\n%w\\t0\\tWeekday as a decimal number, where 0 is Sunday and 6 is Saturday.\\n%d\\t08\\tDay of the month as a zero-padded decimal number.\\n%-d\\t8\\tDay of the month as a decimal number. (Platform specific)\\n%b\\tSep\\tMonth as locale’s abbreviated name.\\n%B\\tSeptember\\tMonth as locale’s full name.\\n%m\\t09\\tMonth as a zero-padded decimal number.\\n%-m\\t9\\tMonth as a decimal number. (Platform specific)\\n%y\\t13\\tYear without century as a zero-padded decimal number.\\n%Y\\t2013\\tYear with century as a decimal number.\\n%H\\t07\\tHour (24-hour clock) as a zero-padded decimal number.\\n%-H\\t7\\tHour (24-hour clock) as a decimal number. (Platform specific)\\n%I\\t07\\tHour (12-hour clock) as a zero-padded decimal number.\\n%-I\\t7\\tHour (12-hour clock) as a decimal number. (Platform specific)\\n%p\\tAM\\tLocale’s equivalent of either AM or PM.\\n%M\\t06\\tMinute as a zero-padded decimal number.\\n%-M\\t6\\tMinute as a decimal number. (Platform specific)\\n%S\\t05\\tSecond as a zero-padded decimal number.\\n%-S\\t5\\tSecond as a decimal number. (Platform specific)\\n%f\\t000000\\tMicrosecond as a decimal number, zero-padded to 6 digits.\\n%z\\t+0000\\tUTC offset in the form ±HHMM[SS[.ffffff]] (empty string if the object is naive).\\n%Z\\tUTC\\tTime zone name (empty string if the object is naive).\\n%j\\t251\\tDay of the year as a zero-padded decimal number.\\n%-j\\t251\\tDay of the year as a decimal number. (Platform specific)\\n%U\\t36\\tWeek number of the year (Sunday as the first day of the week) as a zero-padded decimal number. All days in a new year preceding the first Sunday are considered to be in week 0.\\n%-U\\t36\\tWeek number of the year (Sunday as the first day of the week) as a decimal number. All days in a new year preceding the first Sunday are considered to be in week 0. (Platform specific)\\n%W\\t35\\tWeek number of the year (Monday as the first day of the week) as a zero-padded decimal number. All days in a new year preceding the first Monday are considered to be in week 0.\\n%-W\\t35\\tWeek number of the year (Monday as the first day of the week) as a decimal number. All days in a new year preceding the first Monday are considered to be in week 0. (Platform specific)\\n%c\\tSun Sep 8 07:06:05 2013\\tLocale’s appropriate date and time representation.\\n%x\\t09/08/13\\tLocale’s appropriate date representation.\\n%X\\t07:06:05\\tLocale’s appropriate time representation.\\n%%\\t%\\tA literal '%' character.\\n\""
            ],
            "application/vnd.google.colaboratory.intrinsic+json": {
              "type": "string"
            }
          },
          "metadata": {},
          "execution_count": 20
        }
      ]
    },
    {
      "cell_type": "code",
      "source": [
        "#maths lib\n",
        "import math\n",
        "x=min(5,6,7)\n",
        "y=max(6,7,8)\n",
        "z=pow(4,3)\n",
        "k=math.sqrt(64)\n",
        "l=math.ceil(1.4)\n",
        "m=math.floor(1.4)\n",
        "print(x)\n",
        "print(y)\n",
        "print(z)\n",
        "\n",
        "print(k)\n",
        "print(l)\n",
        "print(m)\n"
      ],
      "metadata": {
        "colab": {
          "base_uri": "https://localhost:8080/"
        },
        "id": "VeXoj1nHS7sQ",
        "outputId": "bad33c50-0c6a-49a3-c8f0-712a328361b1"
      },
      "execution_count": null,
      "outputs": [
        {
          "output_type": "stream",
          "name": "stdout",
          "text": [
            "5\n",
            "8\n",
            "64\n",
            "8.0\n",
            "2\n",
            "1\n"
          ]
        }
      ]
    },
    {
      "cell_type": "code",
      "source": [
        "#matplot lib\n",
        "import matplotlib\n",
        "x=(matplotlib.__version__)\n",
        "print(x)\n",
        "import matplotlib.pyplot as plt\n",
        "import numpy as np\n",
        "x_axis=np.array([0,6])\n",
        "y_axis=np.array([0,250])\n",
        "plt.plot(x_axis,y_axis)\n",
        "\n",
        "plt.show()\n",
        "\n",
        "import matplotlib.pyplot as plt\n",
        "import numpy as np\n",
        "x_axis=np.array([1,3,7,8,4])\n",
        "'''marker size - ms\n",
        "   marker face colour - mfc\n",
        "   marker edge colour - mec we can pass hashing value in colour\n",
        "'''\n",
        "plt.plot(x_axis,marker=\"o\",ms=20,mfc='r',mec='g')\n",
        "\n",
        "\n",
        "'''from tkinter import YView as y\n",
        "import matplotlib.pyplot as plt\n",
        "import numpy as np\n",
        "x_axis=np.array([1,3,7,8,4])\n",
        "plt.plot(x_axis,marker='x:r')'''\n"
      ],
      "metadata": {
        "colab": {
          "base_uri": "https://localhost:8080/",
          "height": 879
        },
        "id": "0vJnzpg1YUHk",
        "outputId": "abe4106d-b1bb-4055-87d2-10512a5d5f4d"
      },
      "execution_count": null,
      "outputs": [
        {
          "output_type": "stream",
          "name": "stdout",
          "text": [
            "3.7.1\n"
          ]
        },
        {
          "output_type": "display_data",
          "data": {
            "text/plain": [
              "<Figure size 640x480 with 1 Axes>"
            ],
            "image/png": "[encoded data removed]"
          },
          "metadata": {}
        },
        {
          "output_type": "execute_result",
          "data": {
            "text/plain": [
              "\"from tkinter import YView as y\\nimport matplotlib.pyplot as plt\\nimport numpy as np\\nx_axis=np.array([1,3,7,8,4])\\nplt.plot(x_axis,marker='x:r')\""
            ],
            "application/vnd.google.colaboratory.intrinsic+json": {
              "type": "string"
            }
          },
          "metadata": {},
          "execution_count": 39
        },
        {
          "output_type": "display_data",
          "data": {
            "text/plain": [
              "<Figure size 640x480 with 1 Axes>"
            ],
            "image/png": "[encoded data removed]"
          },
          "metadata": {}
        }
      ]
    },
    {
      "cell_type": "code",
      "source": [
        "#line chart\n",
        "import matplotlib.pyplot as plt\n",
        "import numpy as np\n",
        "x_axis=np.array([1,3,7,8,4])\n",
        "y_axis=np.array([2,5,4,8,10])\n",
        "plt.plot(x_axis,linestyle=\"dotted\",color='r',linewidth='2.0')\n",
        "plt.plot(y_axis,linestyle=\"--\",color='y',linewidth='2.0')\n",
        "plt.show()\n"
      ],
      "metadata": {
        "colab": {
          "base_uri": "https://localhost:8080/",
          "height": 430
        },
        "id": "uET5mWxPirqM",
        "outputId": "9d8233c8-f197-451a-c9fe-e0b0772c331c"
      },
      "execution_count": null,
      "outputs": [
        {
          "output_type": "display_data",
          "data": {
            "text/plain": [
              "<Figure size 640x480 with 1 Axes>"
            ],
            "image/png": "[encoded data removed]"
          },
          "metadata": {}
        }
      ]
    },
    {
      "cell_type": "code",
      "source": [
        "#plotting without line\n",
        "import matplotlib.pyplot as plt\n",
        "import numpy as np\n",
        "\n",
        "x_axis = np.array([1, 3, 7, 8, 4])\n",
        "y_axis = np.array([2, 5, 4, 8, 10])\n",
        "\n",
        "font1 = {'family': 'serif', 'color': 'blue', 'size': 20}\n",
        "font2 = {'family': 'serif', 'color': 'darkred', 'size': 15}\n",
        "\n",
        "plt.plot(x_axis, y_axis, 'o', color='yellow', markersize=8.0)\n",
        "plt.title(\"Smartness\", fontdict=font1,loc=\"left\")\n",
        "plt.xlabel(\"Marks\", fontdict=font2)\n",
        "plt.ylabel(\"Study Hours\", fontdict=font2)\n",
        "plt.grid()\n",
        "\n",
        "plt.show()\n"
      ],
      "metadata": {
        "colab": {
          "base_uri": "https://localhost:8080/",
          "height": 484
        },
        "id": "cOo5vgDimA0T",
        "outputId": "38352a20-e3f0-4b1d-8953-3ec8d4bf7b42"
      },
      "execution_count": null,
      "outputs": [
        {
          "output_type": "display_data",
          "data": {
            "text/plain": [
              "<Figure size 640x480 with 1 Axes>"
            ],
            "image/png": "[encoded data removed]"
          },
          "metadata": {}
        }
      ]
    },
    {
      "cell_type": "code",
      "source": [
        "#to specify which grid line to be drawn via x axis or y axis\n",
        "import matplotlib.pyplot as plt\n",
        "import numpy as np\n",
        "\n",
        "x_axis = np.array([1, 3, 7, 8, 4])\n",
        "y_axis = np.array([2, 5, 4, 8, 10])\n",
        "\n",
        "font1 = {'family': 'serif', 'color': 'blue', 'size': 20}\n",
        "font2 = {'family': 'serif', 'color': 'darkred', 'size': 15}\n",
        "\n",
        "plt.plot(x_axis, y_axis, '--', color='yellow', markersize=8.0)\n",
        "plt.title(\"Smartness\", fontdict=font1,loc=\"left\")\n",
        "plt.xlabel(\"Marks\", fontdict=font2)\n",
        "plt.ylabel(\"Study Hours\", fontdict=font2)\n",
        "plt.grid(axis='x',color='g',linewidth=0.5)\n",
        "plt.grid(axis='y',color='r',linewidth=0.5)\n",
        "\n",
        "plt.show()"
      ],
      "metadata": {
        "colab": {
          "base_uri": "https://localhost:8080/",
          "height": 484
        },
        "id": "Sm7Dcsehqs8-",
        "outputId": "db993643-41e5-425e-d7bd-ecb376d9b549"
      },
      "execution_count": null,
      "outputs": [
        {
          "output_type": "display_data",
          "data": {
            "text/plain": [
              "<Figure size 640x480 with 1 Axes>"
            ],
            "image/png": "[encoded data removed]"
          },
          "metadata": {}
        }
      ]
    },
    {
      "cell_type": "code",
      "source": [
        "#display multiple plot with subplot\n",
        "import matplotlib.pyplot as plt\n",
        "import numpy as np\n",
        "\n",
        "# Plot 1\n",
        "x1 = np.array([1, 3, 7, 8, 4])\n",
        "y1 = np.array([2, 5, 4, 8, 10])\n",
        "\n",
        "plt.subplot(1, 2, 1)  # 1-row, 2-columns\n",
        "plt.plot(x1, y1)\n",
        "plt.title('Plot 1')\n",
        "\n",
        "# Plot 2\n",
        "x2 = np.array([11, 13, 7, 28, 14])\n",
        "y2 = np.array([4, 5, 8, 18, 10])\n",
        "\n",
        "plt.subplot(1, 2, 2)  # 1-row, 2-columns\n",
        "plt.plot(x2, y2)\n",
        "plt.title('Plot 2')\n",
        "\n",
        "plt.show()\n",
        "\n"
      ],
      "metadata": {
        "colab": {
          "base_uri": "https://localhost:8080/",
          "height": 452
        },
        "id": "xgd5YCJprwXV",
        "outputId": "a5d74033-df1c-475a-9ccf-8aa9c0f1be67"
      },
      "execution_count": null,
      "outputs": [
        {
          "output_type": "display_data",
          "data": {
            "text/plain": [
              "<Figure size 640x480 with 2 Axes>"
            ],
            "image/png": "[encoded data removed]"
          },
          "metadata": {}
        }
      ]
    },
    {
      "cell_type": "code",
      "source": [
        "#draw two plot on top of each-other\n",
        "import matplotlib.pyplot as plt\n",
        "import numpy as np\n",
        "\n",
        "# Plot 1\n",
        "x1 = np.array([1, 3, 7, 8, 4])\n",
        "y1 = np.array([2, 5, 4, 8, 10])\n",
        "\n",
        "plt.subplot(2, 1, 1)  # 1-row, 1-columns\n",
        "plt.plot(x1, y1)\n",
        "plt.title('Plot 1')\n",
        "\n",
        "# Plot 2\n",
        "x2 = np.array([11, 13, 7, 28, 14])\n",
        "y2 = np.array([4, 5, 8, 18, 10])\n",
        "\n",
        "plt.subplot(2, 1, 2)  # 2-row, 1-columns\n",
        "plt.plot(x2, y2)\n",
        "plt.title('Plot 2')\n",
        "\n",
        "plt.show()"
      ],
      "metadata": {
        "colab": {
          "base_uri": "https://localhost:8080/",
          "height": 452
        },
        "id": "qNzhe50o3KQ2",
        "outputId": "12704748-b9fc-4cc8-bfe3-4fcbe86b1659"
      },
      "execution_count": null,
      "outputs": [
        {
          "output_type": "display_data",
          "data": {
            "text/plain": [
              "<Figure size 640x480 with 2 Axes>"
            ],
            "image/png": "[encoded data removed]"
          },
          "metadata": {}
        }
      ]
    },
    {
      "cell_type": "code",
      "source": [
        "import matplotlib.pyplot as plt\n",
        "import numpy as np\n",
        "\n",
        "# Plot 1\n",
        "x1 = np.array([1, 3, 7, 8, 4])\n",
        "y1 = np.array([2, 5, 4, 8, 10])\n",
        "\n",
        "plt.subplot(3, 2, 1)  # 3-row, 2-columns, this is the 1st chart\n",
        "plt.plot(x1, y1)\n",
        "plt.title('Plot 1')\n",
        "\n",
        "# Plot 2\n",
        "x2 = np.array([11, 13, 7, 28, 14])\n",
        "y2 = np.array([4, 5, 8, 18, 10])\n",
        "\n",
        "plt.subplot(3, 2, 2)  # 3-row, 2-columns, this is the 2nd chart\n",
        "plt.plot(x2, y2)\n",
        "plt.title('Plot 2')\n",
        "\n",
        "# Plot 3\n",
        "plt.subplot(3, 2, 3)  # 3-row, 2-columns, this is the 3rd chart\n",
        "plt.plot(x1, y1)\n",
        "plt.title('Plot 3')\n",
        "\n",
        "# Plot 4\n",
        "plt.subplot(3, 2, 4)  # 3-row, 2-columns, this is the 4th chart\n",
        "plt.plot(x2, y2)\n",
        "plt.title('Plot 4')\n",
        "\n",
        "# Plot 5\n",
        "plt.subplot(3, 2, 5)  # 3-row, 2-columns, this is the 5th chart\n",
        "plt.plot(x1, y1)\n",
        "plt.title('Plot 5')\n",
        "\n",
        "# Plot 6\n",
        "plt.subplot(3, 2, 6)  # 3-row, 2-columns, this is the 6th chart\n",
        "plt.plot(x2, y2)\n",
        "plt.title('Plot 6')\n",
        "\n",
        "plt.tight_layout()  # Adjust the layout for better spacing\n",
        "plt.show()\n"
      ],
      "metadata": {
        "colab": {
          "base_uri": "https://localhost:8080/",
          "height": 487
        },
        "id": "xUy0u1Zu4HiC",
        "outputId": "64dd5459-92dd-4457-b4ef-40afc57cf9fa"
      },
      "execution_count": null,
      "outputs": [
        {
          "output_type": "display_data",
          "data": {
            "text/plain": [
              "<Figure size 640x480 with 6 Axes>"
            ],
            "image/png": "[encoded data removed]"
          },
          "metadata": {}
        }
      ]
    },
    {
      "cell_type": "code",
      "source": [
        "#scatter\n",
        "import matplotlib.pyplot as plt\n",
        "import numpy as np\n",
        "\n",
        "# day 1 age and speed\n",
        "x1 = np.array([1, 3, 7, 8, 4])\n",
        "y1 = np.array([102, 95, 84, 78, 110])\n",
        "\n",
        "plt.subplot(3, 2, 1)  # 3-row, 2-columns, this is the 1st chart\n",
        "plt.scatter(x1, y1,color='hotpink')\n",
        "plt.title('age vs speed')\n",
        "\n",
        "# day 2 age and speed\n",
        "x1 = np.array([11, 6, 73, 28, 44])\n",
        "y1 = np.array([52, 195, 184, 178, 120])\n",
        "\n",
        "plt.subplot(3, 2, 1)  # 3-row, 2-columns, this is the 1st chart\n",
        "plt.scatter(x1, y1,color='yellow')\n",
        "plt.title('age vs speed')\n",
        "\n",
        "plt.show()\n",
        "\n",
        "#change each dot color\n",
        "x1 = np.array([1, 3, 7, 8, 4])\n",
        "y1 = np.array([102, 95, 84, 78, 110])\n",
        "\n",
        "colors = ['red', 'green', 'blue', 'purple', 'orange']\n",
        "\n",
        "plt.scatter(x1, y1,c=colors)\n",
        "plt.title('age vs speed')\n",
        "\n"
      ],
      "metadata": {
        "id": "0Da-CdAkBxFC",
        "outputId": "55b21815-a181-4478-cbd7-b138abc77903",
        "colab": {
          "base_uri": "https://localhost:8080/",
          "height": 643
        }
      },
      "execution_count": null,
      "outputs": [
        {
          "output_type": "display_data",
          "data": {
            "text/plain": [
              "<Figure size 640x480 with 1 Axes>"
            ],
            "image/png": "[encoded data removed]"
          },
          "metadata": {}
        },
        {
          "output_type": "execute_result",
          "data": {
            "text/plain": [
              "Text(0.5, 1.0, 'age vs speed')"
            ]
          },
          "metadata": {},
          "execution_count": 85
        },
        {
          "output_type": "display_data",
          "data": {
            "text/plain": [
              "<Figure size 640x480 with 1 Axes>"
            ],
            "image/png": "[encoded data removed]"
          },
          "metadata": {}
        }
      ]
    },
    {
      "cell_type": "code",
      "source": [
        "#each dot color wih array of colour cmap and viridis\n",
        "import matplotlib.pyplot as plt\n",
        "import numpy as np\n",
        "\n",
        "x1 = np.array([1, 3, 7, 8, 4])\n",
        "y1 = np.array([102, 95, 84, 78, 110])\n",
        "colors = np.array([0, 10, 20, 30, 40])\n",
        "\n",
        "plt.scatter(x1, y1, cmap='viridis', c=colors, marker='x')\n",
        "\n",
        "plt.title('Age vs Speed')\n",
        "plt.colorbar(label='Color Scale')  # Add colorbar for reference\n",
        "\n",
        "plt.show()\n",
        "\n"
      ],
      "metadata": {
        "id": "KmP35EBxFU6Y",
        "outputId": "c292ba14-318c-4d12-b921-3606e2dbcaaf",
        "colab": {
          "base_uri": "https://localhost:8080/",
          "height": 452
        }
      },
      "execution_count": null,
      "outputs": [
        {
          "output_type": "display_data",
          "data": {
            "text/plain": [
              "<Figure size 640x480 with 2 Axes>"
            ],
            "image/png": "[encoded data removed]"
          },
          "metadata": {}
        }
      ]
    },
    {
      "cell_type": "code",
      "source": [
        "#each dot size wih array of sizes\n",
        "import matplotlib.pyplot as plt\n",
        "import numpy as np\n",
        "\n",
        "x1 = np.array([1, 3, 7, 8, 4])\n",
        "y1 = np.array([102, 95, 84, 78, 110])\n",
        "sizes = np.array([1000, 10, 220, 130, 440])\n",
        "\n",
        "plt.scatter(x1,y1,s=sizes)\n",
        "\n",
        "plt.title('Age vs Speed')\n",
        "\n",
        "plt.show()\n"
      ],
      "metadata": {
        "id": "FgKJX4DwHB22",
        "outputId": "e13aee97-154a-4ed8-964b-7cc820fd11ee",
        "colab": {
          "base_uri": "https://localhost:8080/",
          "height": 452
        }
      },
      "execution_count": null,
      "outputs": [
        {
          "output_type": "display_data",
          "data": {
            "text/plain": [
              "<Figure size 640x480 with 1 Axes>"
            ],
            "image/png": "[encoded data removed]"
          },
          "metadata": {}
        }
      ]
    },
    {
      "cell_type": "code",
      "source": [
        "#alpha for transparency of dots\n",
        "import matplotlib.pyplot as plt\n",
        "import numpy as np\n",
        "\n",
        "x1 = np.array([1, 3, 7, 8, 4])\n",
        "y1 = np.array([102, 95, 84, 78, 110])\n",
        "sizes = np.array([1000, 10, 220, 130, 440])\n",
        "\n",
        "plt.scatter(x1,y1,s=sizes,alpha=0.5)\n",
        "\n",
        "plt.title('Age vs Speed')\n",
        "\n",
        "plt.show()"
      ],
      "metadata": {
        "id": "yCMg9Uj6Hhgs",
        "outputId": "23e911a8-a69f-4943-ad8e-5f7a7e9134c7",
        "colab": {
          "base_uri": "https://localhost:8080/",
          "height": 452
        }
      },
      "execution_count": null,
      "outputs": [
        {
          "output_type": "display_data",
          "data": {
            "text/plain": [
              "<Figure size 640x480 with 1 Axes>"
            ],
            "image/png": "[encoded data removed]"
          },
          "metadata": {}
        }
      ]
    },
    {
      "cell_type": "code",
      "source": [
        "import matplotlib.pyplot as plt\n",
        "import numpy as np\n",
        "\n",
        "x = np.random.randint(100, size=(100))\n",
        "y = np.random.randint(100, size=(100))\n",
        "colors = np.random.randint(100, size=(100))\n",
        "sizes = 10 * np.random.randint(100, size=(100))\n",
        "alpha_values = np.random.rand(100)\n",
        "\n",
        "plt.scatter(x, y, c=colors, s=sizes, alpha=alpha_values, cmap='nipy_spectral')\n",
        "plt.colorbar(label='Color Scale')\n",
        "\n",
        "plt.title('Scatter Plot with Color, Size, and Alpha')\n",
        "plt.show()\n"
      ],
      "metadata": {
        "id": "xW0qqQ2zN-5u",
        "outputId": "dc8db77d-802f-4df4-a692-84937bd00fe0",
        "colab": {
          "base_uri": "https://localhost:8080/",
          "height": 452
        }
      },
      "execution_count": null,
      "outputs": [
        {
          "output_type": "display_data",
          "data": {
            "text/plain": [
              "<Figure size 640x480 with 2 Axes>"
            ],
            "image/png": "[encoded data removed]"
          },
          "metadata": {}
        }
      ]
    },
    {
      "cell_type": "code",
      "source": [
        "#bar graph\n",
        "# for vbar--width\n",
        "#for hbar--height is used\n",
        "\n",
        "\n",
        "'''import matplotlib.pyplot as plt\n",
        "import numpy as np\n",
        "\n",
        "x=np.array([\"A\",\"B\",\"C\",\"D\",\"E\"])\n",
        "y=np.array([43,8,70,31,50])\n",
        "plt.bar(x,y,color='r',width=0.5)\n",
        "plt.show()'''\n",
        "\n",
        "import matplotlib.pyplot as plt\n",
        "import numpy as np\n",
        "x=np.array([\"A\",\"B\",\"C\",\"D\",\"E\"])\n",
        "y=np.array([43,8,70,31,50])\n",
        "plt.barh(x,y,color='r',height=0.5)\n",
        "plt.show()"
      ],
      "metadata": {
        "id": "zky7qEtaHsEs",
        "outputId": "25cea873-169f-4e93-f69f-d05e65b220d7",
        "colab": {
          "base_uri": "https://localhost:8080/",
          "height": 430
        }
      },
      "execution_count": null,
      "outputs": [
        {
          "output_type": "display_data",
          "data": {
            "text/plain": [
              "<Figure size 640x480 with 1 Axes>"
            ],
            "image/png": "[encoded data removed]"
          },
          "metadata": {}
        }
      ]
    },
    {
      "cell_type": "code",
      "source": [
        "#histogram--for showing freq distribution\n",
        "import matplotlib.pyplot as plt\n",
        "import numpy as np\n",
        "x=np.random.normal(100,10,200) #normal distribution with 10 deviation from 100 to 200\n",
        "plt.hist(x)\n",
        "plt.show()\n"
      ],
      "metadata": {
        "id": "e50r2fDiJJag",
        "outputId": "9094c6b9-b576-4b62-a556-fc1091989b86",
        "colab": {
          "base_uri": "https://localhost:8080/",
          "height": 430
        }
      },
      "execution_count": null,
      "outputs": [
        {
          "output_type": "display_data",
          "data": {
            "text/plain": [
              "<Figure size 640x480 with 1 Axes>"
            ],
            "image/png": "[encoded data removed]"
          },
          "metadata": {}
        }
      ]
    },
    {
      "cell_type": "code",
      "source": [
        "#pie Chart\n",
        "'''import matplotlib.pyplot as plt\n",
        "import numpy as np\n",
        "y=np.array([43,8,70,31,50])\n",
        "mylabels=[\"Apple\",\"Banana\",\"cherry\",\"pineapple\",\"berry\"]\n",
        "plt.pie(y,labels=mylabels)\n",
        "plt.show()'''\n",
        "#start angle parameter ---normally starts at x-axis but you can change it by specifying explicitly\n",
        "'''import matplotlib.pyplot as plt\n",
        "import numpy as np\n",
        "y=np.array([43,8,70,31,50])\n",
        "mylabels=[\"Apple\",\"Banana\",\"cherry\",\"pineapple\",\"berry\"]\n",
        "plt.pie(y,labels=mylabels,startangle=78)\n",
        "plt.show()\n",
        "\n",
        "#how to explode\n",
        "import matplotlib.pyplot as plt\n",
        "import numpy as np\n",
        "y=np.array([43,8,70,31,50])\n",
        "mylabels=[\"Apple\",\"Banana\",\"cherry\",\"pineapple\",\"berry\"]\n",
        "myexplode=[0.2,0,0,0,0] #called wedges i.e distance from centre\n",
        "plt.pie(y,labels=mylabels,startangle=78,explode=myexplode)\n",
        "plt.show()\n",
        "\n",
        "#shadow\n",
        "import matplotlib.pyplot as plt\n",
        "import numpy as np\n",
        "y=np.array([43,8,70,31,50])\n",
        "mylabels=[\"Apple\",\"Banana\",\"cherry\",\"pineapple\",\"berry\"]\n",
        "myexplode=[0.2,0,0,0,0] #called wedges i.e distance from centre\n",
        "plt.pie(y,labels=mylabels,startangle=78,explode=myexplode,shadow=True)\n",
        "plt.show()\n",
        "\n",
        "\n",
        "#diff colors to wedges\n",
        "\n",
        "import matplotlib.pyplot as plt\n",
        "import numpy as np\n",
        "\n",
        "y = np.array([43, 8, 70, 31, 50])\n",
        "mylabels = [\"Apple\", \"Banana\", \"Cherry\", \"Pineapple\", \"Berry\"]\n",
        "mycolors = [\"r\", \"b\", \"m\", \"g\", \"y\"]  # Use \"m\" for purple\n",
        "\n",
        "plt.pie(y, labels=mylabels, colors=mycolors)\n",
        "plt.show()'''\n",
        "\n",
        "#add legend which list of explanation\n",
        "\n",
        "import matplotlib.pyplot as plt\n",
        "import numpy as np\n",
        "\n",
        "y = np.array([43, 8, 70, 31, 50])\n",
        "mylabels = [\"Apple\", \"Banana\", \"Cherry\", \"Pineapple\", \"Berry\"]\n",
        "mycolors = [\"r\", \"b\", \"m\", \"g\", \"y\"]  # Use \"m\" for purple\n",
        "\n",
        "plt.pie(y, labels=mylabels, colors=mycolors)\n",
        "plt.legend(title=\"Fruits\")\n",
        "plt.show()"
      ],
      "metadata": {
        "id": "lGW4WCELLdTg",
        "outputId": "65c4665e-3953-47f9-eb48-034aba6eeeaf",
        "colab": {
          "base_uri": "https://localhost:8080/",
          "height": 406
        }
      },
      "execution_count": null,
      "outputs": [
        {
          "output_type": "display_data",
          "data": {
            "text/plain": [
              "<Figure size 640x480 with 1 Axes>"
            ],
            "image/png": "[encoded data removed]"
          },
          "metadata": {}
        }
      ]
    },
    {
      "cell_type": "code",
      "source": [
        "#numpy\n",
        "\n",
        "'''data types in numpy\n",
        "i - integer\n",
        "b - boolean\n",
        "u - unsigned integer\n",
        "f - float\n",
        "c - complex float\n",
        "m - timedelta\n",
        "M - datetime\n",
        "O - object\n",
        "S - string\n",
        "U - unicode string\n",
        "V - fixed chunk of memory for other type ( void )'''\n",
        "# checking the data type of numpy array\n",
        "import numpy as np\n",
        "x=np.array([1,2,3,4])\n",
        "print(x)\n",
        "print(x.dtype)\n",
        "\n",
        "#create an array with data type of 4 byte int:\n",
        "y=np.array([1,2,3,4],dtype='i4')\n",
        "print(y)\n",
        "print(y.dtype)\n",
        "\n",
        "#\n",
        "z=np.array([1,2,3,4],dtype='i2')\n",
        "print(z)\n",
        "print(z.dtype)\n",
        "\n",
        "#A non integer string like 'a' can not be converted to integer (will raise an error):\n",
        "import numpy as np\n",
        "\n",
        "arr = np.array(['a', '2', '3'], dtype='i')"
      ],
      "metadata": {
        "id": "x7dMyslnz5K9",
        "outputId": "2f49ec71-56db-4ad4-8801-087d14b7e484",
        "colab": {
          "base_uri": "https://localhost:8080/"
        }
      },
      "execution_count": null,
      "outputs": [
        {
          "output_type": "stream",
          "name": "stdout",
          "text": [
            "[1 2 3 4]\n",
            "int64\n",
            "[1 2 3 4]\n",
            "int32\n",
            "[1 2 3 4]\n",
            "int8\n"
          ]
        }
      ]
    }
  ]
}